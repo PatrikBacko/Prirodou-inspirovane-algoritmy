{
 "cells": [
  {
   "cell_type": "markdown",
   "metadata": {},
   "source": [
    "# Tensorboard\n",
    "\n",
    "Tensorboard je velmi užitečný nástroj pro pochopení, sledování a logování jakýchkoliv výpočtů v tensorflow. Tensorflow umí logovat hodnoty všeho, co se v něm počítá a slouží k jejich zobrazení. Pokud chceme tensorboard použít, musíme definovat tzv. summaries, které právě obsahují logy. Potom už stačí jen tensorboard spustit (funguje v prohlížeči)."
   ]
  },
  {
   "cell_type": "code",
   "execution_count": 1,
   "metadata": {},
   "outputs": [
    {
     "name": "stdout",
     "output_type": "stream",
     "text": [
      "WARNING:tensorflow:`write_grads` will be ignored in TensorFlow 2.0 for the `TensorBoard` Callback.\n",
      "Epoch 1/10\n",
      "1875/1875 [==============================] - 64s 32ms/step - loss: 0.4319 - accuracy: 0.8759 - val_loss: 0.1322 - val_accuracy: 0.9602\n",
      "Epoch 2/10\n",
      "1875/1875 [==============================] - 57s 30ms/step - loss: 0.1195 - accuracy: 0.9638 - val_loss: 0.0818 - val_accuracy: 0.9763\n",
      "Epoch 3/10\n",
      "1875/1875 [==============================] - 45s 24ms/step - loss: 0.0842 - accuracy: 0.9742 - val_loss: 0.0729 - val_accuracy: 0.9776\n",
      "Epoch 4/10\n",
      "1875/1875 [==============================] - 43s 23ms/step - loss: 0.0676 - accuracy: 0.9793 - val_loss: 0.0550 - val_accuracy: 0.9822\n",
      "Epoch 5/10\n",
      "1875/1875 [==============================] - 36s 19ms/step - loss: 0.0583 - accuracy: 0.9821 - val_loss: 0.0503 - val_accuracy: 0.9846\n",
      "Epoch 6/10\n",
      "1875/1875 [==============================] - 37s 20ms/step - loss: 0.0506 - accuracy: 0.9845 - val_loss: 0.0434 - val_accuracy: 0.9866\n",
      "Epoch 7/10\n",
      "1875/1875 [==============================] - 37s 20ms/step - loss: 0.0451 - accuracy: 0.9861 - val_loss: 0.0419 - val_accuracy: 0.9870\n",
      "Epoch 8/10\n",
      "1875/1875 [==============================] - 36s 19ms/step - loss: 0.0416 - accuracy: 0.9872 - val_loss: 0.0402 - val_accuracy: 0.9876\n",
      "Epoch 9/10\n",
      "1875/1875 [==============================] - 37s 20ms/step - loss: 0.0378 - accuracy: 0.9882 - val_loss: 0.0372 - val_accuracy: 0.9883\n",
      "Epoch 10/10\n",
      "1875/1875 [==============================] - 37s 20ms/step - loss: 0.0346 - accuracy: 0.9890 - val_loss: 0.0417 - val_accuracy: 0.9864\n"
     ]
    },
    {
     "data": {
      "text/plain": [
       "<keras.callbacks.History at 0x2abc0d5d450>"
      ]
     },
     "execution_count": 1,
     "metadata": {},
     "output_type": "execute_result"
    }
   ],
   "source": [
    "import tensorflow as tf\n",
    "import matplotlib.pyplot as plt\n",
    "from tensorflow.keras.layers import InputLayer\n",
    "from tensorflow.keras.layers import Conv2D\n",
    "from tensorflow.keras.layers import MaxPool2D\n",
    "from tensorflow.keras.layers import Flatten\n",
    "from tensorflow.keras.layers import Dense\n",
    "from tensorflow.keras.layers import Activation\n",
    "from tensorflow.keras.activations import linear\n",
    "from tensorflow.nn import softmax\n",
    "from tensorflow.keras.datasets.mnist import load_data\n",
    "%matplotlib inline\n",
    "\n",
    "nb_classes = 10\n",
    "input_shape = (28, 28, 1)\n",
    "\n",
    "(x_train, y_train), (x_test, y_test) = load_data()\n",
    "x_train = x_train.astype('float32')\n",
    "x_test = x_test.astype('float32')\n",
    "\n",
    "x_train = x_train.reshape((-1,) + input_shape)/255\n",
    "x_test = x_test.reshape((-1,) + input_shape)/255\n",
    "\n",
    "with tf.name_scope('model'):\n",
    "\n",
    "    model = tf.keras.models.Sequential([\n",
    "        InputLayer(input_shape = input_shape, name='input'),\n",
    "        Conv2D(filters=32, kernel_size=(5, 5), name='conv_1'),\n",
    "        MaxPool2D(strides=2, pool_size=(2, 2), name='maxpool_1'),\n",
    "        Conv2D(filters=64, kernel_size=5, activation=tf.nn.relu, name='conv_2'),\n",
    "        MaxPool2D(strides=2, pool_size=(2, 2), name='maxpool_2'),\n",
    "        Flatten(name='Flatten'),\n",
    "        Dense(units=30, activation=tf.keras.activations.relu, name='dense_1'),\n",
    "        Dense(units=nb_classes, activation=linear, name='dense_2'),\n",
    "        Activation(activation=softmax)\n",
    "        ]\n",
    "    )\n",
    "\n",
    "    model.compile(loss='sparse_categorical_crossentropy', optimizer='sgd', metrics=['accuracy'])\n",
    "\n",
    "tb_callbacks = tf.keras.callbacks.TensorBoard(log_dir = './logs2', histogram_freq=1, write_grads=True, write_images=True)\n",
    "model.fit(x_train, y_train, epochs=10, validation_data=(x_test, y_test), callbacks=[tb_callbacks])"
   ]
  },
  {
   "cell_type": "markdown",
   "metadata": {},
   "source": [
    "Teď můžete spustit tensorboard pomocí ```tensorboard --logdir=logs2``` a prohlédnout si informace o trénování."
   ]
  },
  {
   "cell_type": "code",
   "execution_count": null,
   "metadata": {},
   "outputs": [],
   "source": []
  }
 ],
 "metadata": {
  "kernelspec": {
   "display_name": "Python 3 (ipykernel)",
   "language": "python",
   "name": "python3"
  },
  "language_info": {
   "codemirror_mode": {
    "name": "ipython",
    "version": 3
   },
   "file_extension": ".py",
   "mimetype": "text/x-python",
   "name": "python",
   "nbconvert_exporter": "python",
   "pygments_lexer": "ipython3",
   "version": "3.10.7"
  }
 },
 "nbformat": 4,
 "nbformat_minor": 2
}
