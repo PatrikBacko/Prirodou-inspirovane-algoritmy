{
 "cells": [
  {
   "cell_type": "markdown",
   "metadata": {},
   "source": [
    "# Evoluční algoritmy - spojitá a kombinatorická optimalizace\n",
    "\n",
    "Minule jsme si ukazovali jednoduchý genetický algoritmus, který pracoval s binárními jedinci. Dnes se podíváme na spojité a celočíselné reprezentace jedinců a na další druhy evolučních operátorů.\n",
    "\n",
    "## Minimalizace Rastrigin funkce\n",
    "\n",
    "V následujícím cvičení si vyzkoušíme napsat jednoduchý evoluční algoritmus pro minimalizace [Rastrigin funkce](https://en.wikipedia.org/wiki/Rastrigin_function). Tato funkce je typickým příkladem nelineární funkce a běžně se používá při testování chování optimalizačních algoritmů. Nalezení jejího globálního minima je složité, protože obsahuje spoustu lokálních minim. Globální minimum se nachází v bodě 0."
   ]
  },
  {
   "cell_type": "code",
   "execution_count": 2,
   "metadata": {},
   "outputs": [],
   "source": [
    "import numpy as np\n",
    "import random\n",
    "import copy\n",
    "import math\n",
    "%matplotlib inline\n",
    "import matplotlib.pyplot as plt"
   ]
  },
  {
   "cell_type": "markdown",
   "metadata": {},
   "source": [
    "Nejprve si definujem, jak tedy vypadá ona výše zmíněná funkce, kterou budeme chtít minimalizovat a naimplementujeme podle toho fitness. Hodnota fitness je vlastně hodnota rastrigin funkce v daném bodě, který jedinec reprezentuje. Protože evoluční algoritmus je maximalizační algoritmus, obrátíme znaménko u výsledné hodnoty funkce."
   ]
  },
  {
   "cell_type": "code",
   "execution_count": 3,
   "metadata": {},
   "outputs": [],
   "source": [
    "def fitness(individual):\n",
    "    N = len(individual)\n",
    "    A = 10\n",
    "    value = A*N\n",
    "    for i in range(0,len(individual)):\n",
    "        value += individual[i]**2 - A*math.cos(2*math.pi*individual[i])\n",
    "    return -value"
   ]
  },
  {
   "cell_type": "markdown",
   "metadata": {},
   "source": [
    "Potom je třeba si rozmyslet, jak bude vypadat jedinec. Bude to bude floating point vektor, kde hodnoty budou čísla z intervalu [-5.12,5.12] podle definičního oboru rastrigin funkce. Napíšeme si tedy funkci na vytvoření náhodné populace."
   ]
  },
  {
   "cell_type": "code",
   "execution_count": 4,
   "metadata": {},
   "outputs": [],
   "source": [
    "def random_population(population_size, individual_size):\n",
    "    population = []\n",
    "    \n",
    "    for i in range(0,population_size):\n",
    "        individual = np.random.uniform(-5.12, 5.12, size=(individual_size,))\n",
    "        population.append(individual)\n",
    "        \n",
    "    return population"
   ]
  },
  {
   "cell_type": "markdown",
   "metadata": {},
   "source": [
    "Pro vytvořenou populaci jedinců si napíšeme svoje operátory křížení a mutace. Křížení může být aritmetické, například vážený průměr dvou jedinců, nebo strukturální, kdy opět prohazujeme části jedinců. Zde si zkusíme naimplementovat aritmetické křížení pomocí průměrů hodnot ze dvou vybraných jedinců."
   ]
  },
  {
   "cell_type": "code",
   "execution_count": 5,
   "metadata": {},
   "outputs": [],
   "source": [
    "def crossover_mean(population, cross_prob=0.8, alpha=0.25):\n",
    "    new_population = []\n",
    "    \n",
    "    for j in range(0,len(population)//2):\n",
    "        indiv1 = copy.deepcopy(population[2*j])\n",
    "        indiv2 = copy.deepcopy(population[2*j+1])\n",
    "        child1 = indiv1\n",
    "        child2 = indiv2\n",
    "        if random.random()<cross_prob:\n",
    "            for i in range(0, len(indiv1)):\n",
    "                child1[i] = alpha*indiv1[i] + (1-alpha)*indiv2[i]\n",
    "                child2[i] = (1-alpha)*indiv1[i] + alpha*indiv2[i]\n",
    "        new_population.append(child1)\n",
    "        new_population.append(child2)\n",
    "        \n",
    "    return new_population"
   ]
  },
  {
   "cell_type": "markdown",
   "metadata": {},
   "source": [
    "Mutace může být buď netížená, což znamená, že se pro mutovanou pozici vygeneruje nové číslo z daného rozsahu hodnot, nebo zatížená, kdy k hodnotě v jedinci přičtu nějaké číslo z normálního rozdělení s danou odchylkou (například 1) a nulovou střední hodnotou. Vyzkoušíme si zda naimplementovat nezatíženou mutaci, která pro mutovanou pozici vybere nové náhodné číslo z rozsahu možných hodnot rastrigin funkce."
   ]
  },
  {
   "cell_type": "code",
   "execution_count": 6,
   "metadata": {},
   "outputs": [],
   "source": [
    "def mutation_switch(population,individual_mutation_prob=0.2,value_mutation_prob=0.1):\n",
    "    new_population = []\n",
    "    for j in range(0,len(population)):\n",
    "        individual = copy.deepcopy(population[j])\n",
    "        if random.random() < individual_mutation_prob:\n",
    "            for i in range(0,len(individual)):\n",
    "                if random.random() < value_mutation_prob:\n",
    "                    individual[i] = np.random.uniform(-5.12, 5.12)\n",
    "        new_population.append(individual)\n",
    "    return new_population"
   ]
  },
  {
   "cell_type": "markdown",
   "metadata": {},
   "source": [
    "Na závěr si definujeme ještě selekci. Tentokrát si vyzkoušíme turnajovou selekci, kdy se náhodně vybere k jedinců z populace a udělá se mezi nimi turnaj a vybere se ten s nejlepší fitness. Tato selekce má oproti ruletové velkou výhodu -- nezávisí na hodnotě fitness, ale pouze na pořadí jedinců v populaci podle fitness. Tedy nám nevadí, že vracíme zápornou hodnotu fitness a selekce se nám nerozbije."
   ]
  },
  {
   "cell_type": "code",
   "execution_count": 7,
   "metadata": {},
   "outputs": [],
   "source": [
    "def selection(population,fitness_value, k): \n",
    "    new_population = []\n",
    "    for i in range(0,len(population)):\n",
    "        individuals = []\n",
    "        fitnesses = []\n",
    "        for _ in range(0,k):\n",
    "            idx = random.randint(0,len(population)-1)\n",
    "            individuals.append(population[idx])\n",
    "            fitnesses.append(fitness_value[idx])\n",
    "        new_population.append(copy.deepcopy(individuals[np.argmax(fitnesses)]))\n",
    "    return new_population "
   ]
  },
  {
   "cell_type": "markdown",
   "metadata": {},
   "source": [
    "Nyní si stejně jako v minulé hodině definujeme celý evoluční algoritmus a pak ho pustíme a sledujeme, co se bude dít."
   ]
  },
  {
   "cell_type": "code",
   "execution_count": 8,
   "metadata": {},
   "outputs": [],
   "source": [
    "def evolution(population_size, individual_size, max_generations):\n",
    "    max_fitness = []\n",
    "    population = random_population(population_size,individual_size)\n",
    "    \n",
    "    for i in range(0,max_generations):\n",
    "        fitness_value = list(map(fitness, population))\n",
    "        max_ftns = max(fitness_value)\n",
    "        max_fitness.append(max_ftns)\n",
    "        parents = selection(population,fitness_value,2)\n",
    "        children = crossover_mean(parents)\n",
    "        mutated_children = mutation_switch(children)\n",
    "\n",
    "        population = mutated_children\n",
    "        \n",
    "    # spocitame fitness i pro posledni populaci\n",
    "    fitness_value = list(map(fitness, population))\n",
    "    max_fitness.append(max(fitness_value))\n",
    "    best_individual = population[np.argmax(fitness_value)]\n",
    "    \n",
    "    return best_individual, population, max_fitness"
   ]
  },
  {
   "cell_type": "code",
   "execution_count": 9,
   "metadata": {},
   "outputs": [],
   "source": [
    "#################\n",
    "#môj evolution\n",
    "\n",
    "def evolution(population_size, individual_size, max_generations, scale):\n",
    "    max_fitness = []\n",
    "    population = random_population(population_size,individual_size)\n",
    "    \n",
    "    for i in range(0,max_generations):\n",
    "        fitness_value = list(map(fitness, population))\n",
    "        max_ftns = max(fitness_value)\n",
    "        max_fitness.append(max_ftns)\n",
    "        parents = selection(population,fitness_value,2)\n",
    "        children = crossover_mean(parents)\n",
    "\n",
    "        fitness_value_children = list(map(fitness, children))\n",
    "        better_children = len(np.where(fitness_value_children > max_ftns)[0])\n",
    "\n",
    "        mutated_children, _= mutation_switch(children, scale, better_children)\n",
    "\n",
    "        population = mutated_children\n",
    "    \n",
    "\n",
    "    # spocitame fitness i pro posledni populaci\n",
    "    fitness_value = list(map(fitness, population))\n",
    "    max_fitness.append(max(fitness_value))\n",
    "    best_individual = population[np.argmax(fitness_value)]\n",
    "    \n",
    "    return best_individual, population, max_fitness"
   ]
  },
  {
   "cell_type": "code",
   "execution_count": 14,
   "metadata": {
    "scrolled": true
   },
   "outputs": [
    {
     "name": "stdout",
     "output_type": "stream",
     "text": [
      "best fitness:  -2.058000085537369\n",
      "best individual:  [ 0.98549962 -0.00476977 -0.00269982 -0.00559152  0.00497014  0.9907959\n",
      "  0.00859192  0.00532154  0.00632308  0.00290053]\n"
     ]
    },
    {
     "data": {
      "text/plain": [
       "Text(0.5, 0, 'Generace')"
      ]
     },
     "execution_count": 14,
     "metadata": {},
     "output_type": "execute_result"
    },
    {
     "data": {
      "image/png": "[encoded data removed]",
      "text/plain": [
       "<Figure size 640x480 with 1 Axes>"
      ]
     },
     "metadata": {},
     "output_type": "display_data"
    }
   ],
   "source": [
    "################################################################################\n",
    "#mnou pridaný kód\n",
    "better_children = 0 #pre scalovanie 1/5 pravidla mutácie\n",
    "scale = 1\n",
    "################################################################################\n",
    "\n",
    "best, population, max_fitness = evolution(population_size=500,individual_size=10,max_generations=500, scale = 1)\n",
    "\n",
    "print('best fitness: ', fitness(best))\n",
    "print('best individual: ', best)\n",
    "\n",
    "\n",
    "plt.plot(max_fitness)\n",
    "plt.ylabel('Fitness')\n",
    "plt.xlabel('Generace')\n"
   ]
  },
  {
   "cell_type": "code",
   "execution_count": 10,
   "metadata": {},
   "outputs": [],
   "source": [
    "#mutácia - normálna distribúcia\n",
    "scale = 0.4 #rozptyl normálnej distribúcie\n",
    "#znižovanie scalu ??\n",
    "def mutation_switch(population,individual_mutation_prob=0.5,value_mutation_prob=0.1):\n",
    "    new_population = []\n",
    "    for j in range(0,len(population)):\n",
    "        individual = copy.deepcopy(population[j])\n",
    "        if random.random() < individual_mutation_prob:\n",
    "            for i in range(0,len(individual)):\n",
    "                if random.random() < value_mutation_prob:\n",
    "                    individual[i] += np.random.normal(0, scale, 1)\n",
    "        new_population.append(individual)\n",
    " \n",
    "    return new_population"
   ]
  },
  {
   "cell_type": "code",
   "execution_count": 13,
   "metadata": {},
   "outputs": [],
   "source": [
    "#mutácia - 1/5 pravidlo\n",
    "def mutation_switch(population, scale, better_children,individual_mutation_prob=0.2,value_mutation_prob=0.1):\n",
    "    new_population = [] \n",
    "    sigma = 1\n",
    "    for j in range(0,len(population)):\n",
    "        sigma = np.exp((better_children/len(population))-1/5) * sigma\n",
    "        individual = copy.deepcopy(population[j])\n",
    "        if random.random() < individual_mutation_prob:\n",
    "            for i in range(0,len(individual)):\n",
    "                if random.random() < value_mutation_prob:\n",
    "                    individual[i] += np.random.normal(0, sigma, 1)\n",
    "        new_population.append(individual)\n",
    "    return new_population, sigma"
   ]
  },
  {
   "cell_type": "markdown",
   "metadata": {},
   "source": [
    "## Úkol na cvičení\n",
    "\n",
    "V kódu výše je naprogramovaná nejjednodušší mutace -- nezatížená. Zkuste si napsat alespoň dva další druhy mutace z následujích možností a porovnat, jak se bude evoluční algoritmus chovat.\n",
    "1. Zatížená mutace, kdy se k hodnotě v jedinci přičítá číslo z normalního rozdělení se střední hodnotou 0 a rozptylem sigma. Sigma se třeba navíc může během každých n generací postupně snižovat. \n",
    "\n",
    "2. Mutace s 1/5 pravidlem, která se používá hlavně u evolučních strategií a probíhá podobně jako zatížená mutace: přičítá k hodnotě číslo z náhodného rozdělení s 0 střední hodnotou a rozptylem sigma. Sigma se updatuje v každém kroku následovně: máme jedince a podíváme se, kolik je v populaci jedinců lepších než ten náš. Sigmu pak upravíme pomocí jednoduché rovnice: sigma = sigma * e^(počet_lepších_jedinců/počet_všech_jedinců-1/5).\n",
    "\n",
    "3. Mutace z diferenciální evoluce, která vybere náhodně pro daného jedince dva další a složku po složce dělá rozdíl jejich hodnot a ten navíc vynásobí nějakou konstantou (třeba 0.8) a to pak přičte k hodnotám v původním jedinci. \n",
    "\n",
    "Můžete samozřejmě zkusit vymyslet i nějakou vlastní mutaci, nebo třeba zkusit vypnout mutaci nebo vypnout křížení a sledovat, co se bude s evolucí dít.\n",
    "\n",
    "\n"
   ]
  },
  {
   "cell_type": "markdown",
   "metadata": {},
   "source": [
    "## Deap knihovna\n",
    "\n",
    "Nyní si opět vyzkoušíme přepsat výše zmíněný problém minimalizace rastrigin funkce pomocí operátorů knihovny deap, abychom si lépe vyzkoušeli, jak se s ní pracuje a jak v ní tvořit svoje vlastní operátory, které se nám budou hodit příští hodinu u genetického programování (to už to bez něj totiž opravdu tak snadno nepůjde)."
   ]
  },
  {
   "cell_type": "code",
   "execution_count": 9,
   "metadata": {},
   "outputs": [],
   "source": [
    "from deap import base\n",
    "from deap import creator\n",
    "from deap import tools\n",
    "from deap import algorithms"
   ]
  },
  {
   "cell_type": "markdown",
   "metadata": {},
   "source": [
    "Pro jistotu si znovu definujeme vlastní funkce mutace, křížení a fitness funkci. Mutace bude opět nezatížená a křížení zůstane pomocí průměru dvou hodnot."
   ]
  },
  {
   "cell_type": "code",
   "execution_count": 10,
   "metadata": {},
   "outputs": [],
   "source": [
    "def rastring_function(individual):\n",
    "    N = len(individual)\n",
    "    A = 10\n",
    "    value = A*N\n",
    "    for i in range(0,len(individual)):\n",
    "        value += individual[i]**2 - A*math.cos(2*math.pi*individual[i])\n",
    "    return value,\n",
    "\n",
    "def mutation_switch(individual,indpb):\n",
    "    for i in range(0,len(individual)):\n",
    "        if random.random() < indpb:\n",
    "            individual[i] = np.random.uniform(-5.12, 5.12)\n",
    "    return individual,\n",
    "\n",
    "def crossover_mean(individual1, individual2, alpha=0.25):\n",
    "    child1 = individual1\n",
    "    child2 = individual2\n",
    "    for i in range(0, len(individual1)):\n",
    "        child1[i] = alpha*individual1[i] + (1-alpha)*individual2[i]\n",
    "        child2[i] = (1-alpha)*individual1[i] + alpha*individual2[i]\n",
    "    return child1, child2"
   ]
  },
  {
   "cell_type": "markdown",
   "metadata": {},
   "source": [
    "Pak si zadefinujeme nový toolbox a přídáme do něj naše operátory. "
   ]
  },
  {
   "cell_type": "code",
   "execution_count": 11,
   "metadata": {},
   "outputs": [],
   "source": [
    "creator.create(\"FitnessMin\", base.Fitness, weights=(-1.0,)) # -1 protoze chci minimalizovat funkci\n",
    "creator.create(\"Individual\", list, fitness=creator.FitnessMin)\n",
    "\n",
    "toolbox = base.Toolbox()\n",
    "\n",
    "toolbox.register(\"attr_float\", random.uniform,-5.12, 5.12)\n",
    "toolbox.register(\"individual\", tools.initRepeat, creator.Individual, toolbox.attr_float, n=4)\n",
    "toolbox.register(\"population\", tools.initRepeat, list, toolbox.individual)\n",
    "\n",
    "toolbox.register(\"evaluate\", rastring_function)\n",
    "toolbox.register(\"mate\", crossover_mean)\n",
    "toolbox.register(\"mutate\", mutation_switch, indpb=0.1)\n",
    "toolbox.register(\"select\", tools.selTournament, tournsize=3)"
   ]
  },
  {
   "cell_type": "markdown",
   "metadata": {},
   "source": [
    "Na závěr pustíme celou eveluci a můžeme sledovat, jak se nám hledání minima daří, nebo nedaří."
   ]
  },
  {
   "cell_type": "code",
   "execution_count": 12,
   "metadata": {},
   "outputs": [
    {
     "name": "stdout",
     "output_type": "stream",
     "text": [
      "gen\tnevals\tavg    \tstd   \tmin    \tmax    \n",
      "0  \t300   \t72.7356\t19.557\t23.5162\t127.384\n",
      "1  \t256   \t55.625 \t16.7361\t6.03062\t98.4765\n",
      "2  \t261   \t48.1334\t15.0284\t6.03062\t102.292\n",
      "3  \t254   \t44.6325\t14.6585\t5.98477\t86.0852\n",
      "4  \t254   \t40.257 \t16.3611\t5.98477\t89.6061\n",
      "5  \t274   \t37.7087\t14.2425\t6.24339\t84.1696\n",
      "6  \t267   \t35.9897\t13.7324\t4.65541\t77.456 \n",
      "7  \t252   \t33.3461\t14.7763\t4.65541\t76.2436\n",
      "8  \t245   \t29.5205\t14.6566\t3.03622\t77.6734\n",
      "9  \t259   \t25.617 \t15.6461\t1.3557 \t78.3374\n",
      "10 \t243   \t19.1896\t13.6196\t1.35192\t73.5564\n",
      "11 \t244   \t14.1527\t12.7397\t0.829566\t78.2368\n",
      "12 \t258   \t8.77772\t10.3729\t0.446016\t67.2393\n",
      "13 \t243   \t4.63466\t7.31682\t0.400028\t48.0454\n",
      "14 \t260   \t2.29005\t5.40869\t0.225053\t34.0513\n",
      "15 \t248   \t2.34432\t6.97601\t0.210477\t47.4882\n",
      "16 \t262   \t2.03594\t6.22503\t0.229279\t44.5115\n",
      "17 \t262   \t1.98323\t7.19593\t0.237688\t59.805 \n",
      "18 \t244   \t2.1488 \t7.30117\t0.235749\t54.3462\n",
      "19 \t246   \t1.65633\t6.32911\t0.234007\t53.9764\n",
      "20 \t253   \t1.34799\t4.91396\t0.23253 \t40.5211\n",
      "21 \t252   \t1.61908\t5.56921\t0.232592\t37.7468\n",
      "22 \t267   \t1.70672\t6.29662\t0.232592\t56.8604\n",
      "23 \t249   \t1.4327 \t5.91144\t0.232023\t48.5424\n",
      "24 \t258   \t1.75521\t6.54266\t0.231924\t52.1183\n",
      "25 \t255   \t1.6378 \t6.23959\t0.231264\t63.3697\n",
      "26 \t254   \t1.58872\t5.48001\t0.231319\t37.2722\n",
      "27 \t255   \t1.88519\t6.22539\t0.231357\t40.5526\n",
      "28 \t253   \t1.16705\t4.9315 \t0.231357\t40.1932\n",
      "29 \t258   \t1.75075\t6.39732\t0.231415\t52.5157\n",
      "30 \t255   \t1.46072\t4.88004\t0.231435\t31.6609\n",
      "31 \t249   \t2.54767\t8.51504\t0.231435\t62.1603\n",
      "32 \t241   \t1.53845\t5.92869\t0.231435\t45.5219\n",
      "33 \t242   \t1.75221\t6.42218\t0.231435\t40.333 \n",
      "34 \t245   \t1.21553\t4.73779\t0.231435\t46.2037\n",
      "35 \t250   \t2.00284\t6.86293\t0.231437\t51.6723\n",
      "36 \t255   \t2.21054\t7.79756\t0.231438\t55.6752\n",
      "37 \t247   \t1.4323 \t5.82439\t0.23144 \t56.9758\n",
      "38 \t256   \t1.61189\t6.21811\t0.23144 \t58.2134\n",
      "39 \t251   \t1.65039\t6.39274\t0.231441\t55.7246\n",
      "40 \t240   \t1.16852\t5.05355\t0.231441\t56.2682\n",
      "41 \t250   \t1.84847\t6.47787\t0.231441\t40.348 \n",
      "42 \t260   \t1.62293\t6.39871\t0.231441\t45.9949\n",
      "43 \t243   \t1.7231 \t6.43534\t0.231441\t40.403 \n",
      "44 \t259   \t1.55272\t7.03493\t0.231442\t75.726 \n",
      "45 \t243   \t1.28242\t4.84906\t0.231442\t38.9121\n",
      "46 \t248   \t1.33207\t4.83526\t0.231442\t40.4851\n",
      "47 \t267   \t2.51683\t8.55217\t0.231442\t74.921 \n",
      "48 \t263   \t2.32687\t7.61138\t0.231442\t50.2429\n",
      "49 \t250   \t1.75814\t7.13293\t0.231442\t62.2868\n",
      "50 \t261   \t1.73441\t6.19499\t0.231442\t49.7561\n",
      "51 \t259   \t1.78919\t6.20834\t0.231442\t48.3864\n",
      "52 \t248   \t1.79935\t6.88649\t0.231442\t63.0632\n",
      "53 \t245   \t1.72105\t6.72021\t0.231442\t53.7551\n",
      "54 \t257   \t1.21834\t5.32657\t0.231442\t39.5807\n",
      "55 \t255   \t1.88082\t6.70599\t0.231442\t50.4901\n",
      "56 \t259   \t1.92937\t6.61681\t0.231442\t55.9999\n",
      "57 \t240   \t1.8084 \t6.25719\t0.231442\t55.7474\n",
      "58 \t248   \t1.45967\t6.03531\t0.231442\t48.9971\n",
      "59 \t235   \t2.36149\t8.0026 \t0.231442\t63.7565\n",
      "60 \t257   \t2.13692\t7.61915\t0.231442\t61.6298\n",
      "61 \t270   \t2.03342\t7.06528\t0.231442\t40.6906\n",
      "62 \t252   \t1.15985\t4.49722\t0.231442\t38.8947\n",
      "63 \t238   \t2.20257\t7.16996\t0.231442\t54.3561\n",
      "64 \t259   \t1.84666\t6.35924\t0.231442\t48.1531\n",
      "65 \t241   \t1.76543\t6.04037\t0.231442\t40.4136\n",
      "66 \t263   \t1.81051\t6.36321\t0.231442\t47.2831\n",
      "67 \t256   \t1.76351\t6.66367\t0.231442\t57.9791\n",
      "68 \t246   \t1.28867\t5.13034\t0.231442\t39.8417\n",
      "69 \t250   \t2.20952\t7.38423\t0.231442\t59.0163\n",
      "70 \t235   \t1.17071\t4.93807\t0.231442\t40.3675\n",
      "71 \t234   \t1.56618\t6.33134\t0.231442\t60.5016\n",
      "72 \t259   \t2.05688\t7.21738\t0.231442\t60.3592\n",
      "73 \t267   \t1.41461\t6.10622\t0.231442\t57.269 \n",
      "74 \t240   \t0.993114\t4.34763\t0.231442\t37.4477\n",
      "75 \t264   \t1.65111 \t5.79326\t0.231442\t48.2062\n",
      "76 \t244   \t1.74577 \t6.20792\t0.231442\t45.3279\n",
      "77 \t262   \t1.62698 \t5.86759\t0.231442\t39.7667\n",
      "78 \t244   \t1.4361  \t5.4291 \t0.231442\t40.8321\n",
      "79 \t254   \t1.3279  \t5.19075\t0.231442\t37.1558\n",
      "80 \t259   \t1.75934 \t6.73157\t0.231442\t66.6587\n",
      "81 \t263   \t1.92786 \t6.593  \t0.231442\t43.2897\n",
      "82 \t245   \t1.35929 \t5.16508\t0.231442\t40.1886\n",
      "83 \t260   \t2.0621  \t7.99838\t0.231442\t81.0401\n",
      "84 \t253   \t1.28188 \t4.83114\t0.231442\t36.0033\n",
      "85 \t251   \t1.5209  \t5.99125\t0.231442\t46.5467\n",
      "86 \t254   \t1.98553 \t7.89194\t0.231442\t69.601 \n",
      "87 \t245   \t1.3681  \t5.50039\t0.231442\t51.2143\n",
      "88 \t249   \t2.15166 \t7.42507\t0.231442\t69.3008\n",
      "89 \t250   \t2.06072 \t8.88337\t0.201226\t93.6874\n",
      "90 \t253   \t2.41325 \t7.71958\t0.20515 \t67.2292\n",
      "91 \t266   \t1.29226 \t5.09626\t0.20515 \t40.0683\n",
      "92 \t241   \t1.45482 \t5.21201\t0.20515 \t54.361 \n",
      "93 \t244   \t2.19703 \t8.85793\t0.20515 \t94.9555\n",
      "94 \t260   \t2.19785 \t8.36904\t0.20515 \t65.2242\n",
      "95 \t251   \t1.88375 \t6.32636\t0.206858\t38.853 \n",
      "96 \t268   \t1.45507 \t5.29198\t0.206858\t32.4611\n",
      "97 \t252   \t1.80523 \t6.34257\t0.206858\t41.2902\n",
      "98 \t251   \t1.54099 \t5.8844 \t0.206858\t40.4556\n",
      "99 \t233   \t1.78624 \t6.37801\t0.0709619\t48.1237\n",
      "100\t247   \t1.89014 \t7.34928\t0.0776834\t73.0017\n"
     ]
    }
   ],
   "source": [
    "pop = toolbox.population(n=300)\n",
    "hof = tools.HallOfFame(1)\n",
    "stats = tools.Statistics(lambda ind: ind.fitness.values)\n",
    "stats.register(\"avg\", np.mean)\n",
    "stats.register(\"std\", np.std)\n",
    "stats.register(\"min\", np.min)\n",
    "stats.register(\"max\", np.max)\n",
    "\n",
    "pop, log = algorithms.eaSimple(pop, toolbox, cxpb=0.8, mutpb=0.2, ngen=100,\n",
    "                               stats=stats, halloffame=hof, verbose=True)"
   ]
  },
  {
   "cell_type": "markdown",
   "metadata": {},
   "source": [
    "## Domácí úkol - Batoh\n",
    "\n",
    "Za domácí úkol budete mít vyřešit pomocí evolučního algoritmu problém batohu. Ten spočívá v tom, že máme batoh kapacity K a N předmětů, každý s cenou c<sub>i</sub> a objemem v<sub>i</sub> a chceme vybrat takové věci, abychom maximalizovali zisk a zároveň abychom nepřekročili kapacitu batohu. \n",
    "\n",
    "Vstupní data máte ve složce *domaci_ukol_data*. Obsahuje čtyři soubory s daty a dva s výsledky. Na první řádce souboru s daty je vždy počet předmětů a kapacita batohu oddělené mezerou, každý další následující řádek obsahuje cenu a objem předmětu taktéž oddělené mezerou. První dva soubory slouží pro snažší odladění evolučního algoritmu a obsahují i k sobě extra soubory s optimálním řešením. Na dalších dvou máte za úkol algoritmus pustit a výsledky na nich naměřené mi poslat. \n",
    "\n",
    "Napište tedy nějaký svůj evoluční algoritmus, který bude řešit problém batohu a pusťte ho na vstupních datech. Svůj kód, popis evolučního algoritmu (zvolené evoluční operátory, kódování jedince, atd.) a rozbor výsledků, včetně nejlepšího dosaženého skóre i s jejich odůvodněním mi pošlete emailem do stanoveného deadline.  Pro sepsání popisu vašeho evolučního algoritmu, parametrů evoluce, zvolené reprezentace jedince a rozboru výsledků použijte [tento template](https://github.com/kackamac/Prirodou-inspirovane-algoritmy/blob/master/04_spojita_reprezentace/DU1_evolucni_algoritmy.pdf)."
   ]
  },
  {
   "cell_type": "code",
   "execution_count": null,
   "metadata": {},
   "outputs": [],
   "source": []
  }
 ],
 "metadata": {
  "kernelspec": {
   "display_name": "Python 3 (ipykernel)",
   "language": "python",
   "name": "python3"
  },
  "language_info": {
   "codemirror_mode": {
    "name": "ipython",
    "version": 3
   },
   "file_extension": ".py",
   "mimetype": "text/x-python",
   "name": "python",
   "nbconvert_exporter": "python",
   "pygments_lexer": "ipython3",
   "version": "3.9.13"
  }
 },
 "nbformat": 4,
 "nbformat_minor": 2
}
