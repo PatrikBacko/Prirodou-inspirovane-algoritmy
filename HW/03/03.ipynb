{
 "cells": [
  {
   "attachments": {},
   "cell_type": "markdown",
   "metadata": {
    "tags": [
     "parameters"
    ]
   },
   "source": [
    "## Domácí úkol\n",
    "\n",
    "Za domácí úkol budete mít vyřešit pomocí optimalizace mravenčí kolonií [Vehicle Routing Problem](https://en.wikipedia.org/wiki/Vehicle_routing_problem), což je vlastně jen zobecněný problém obchodního cestujícího na princip optimalizace rozvozu zásilek doručovací společnosti. Jedná se o to, že máme depa, každé má svá vlastní vozidla s danou kapacitou a nějakou množinu zásilek, které je potřeba rozvézt k jejich majitelům. Cílem je najít množinu doručovacích tras tak, aby byly všechny zásilky dodány majitelům a aby byly minimalizované celkové náklady, tedy aby byl použit co nejmenší počet vozidel a aby byly trasy co nejkratší.\n",
    "\n",
    "V našem případě použijeme zjednodušenou verzi tohoto problému s jedním depem, které má neomezený počet vozidel jednoho typu. Vstupní data najdete ve složce *domaci_ukol_data*, jsou ve formátu xml a obsahují 3 soubory -- 2 malé a jeden větší, které zároveň obsahují:\n",
    "- Seznam uzlů se souřadnicemi x a y, kdy uzel s typem 0 je depo, a ty ostatní s typem 1 jsou lokace zákazníků.\n",
    "- Seznam vozidel, v tomto případě máme jeden typ vozidla, které musí začínat a končit v depu a má nějakou maximální kapacitu předmětů, které uveze.\n",
    "- Seznam požadavků, neboli do jakého uzlu se toho má co dovézt.\n",
    "\n",
    "Svůj kód, popis řešení, výsledky a jejich rozbor mi pošlete emailem do stanoveného deadline. Pro sepsání popisu algoritmu a výsledků použijte [tento template](https://github.com/kackamac/Prirodou-inspirovane-algoritmy/blob/master/11_rojove%20algoritmy/DU3_spojita_optimalizace.pdf)."
   ]
  },
  {
   "cell_type": "code",
   "execution_count": 1,
   "metadata": {},
   "outputs": [],
   "source": [
    "from collections import namedtuple\n",
    "import math\n",
    "import functools\n",
    "import numpy as np\n",
    "import csv\n",
    "import pprint\n",
    "\n",
    "%matplotlib inline\n",
    "import matplotlib.pyplot as plt\n",
    "from matplotlib import collections as mc"
   ]
  },
  {
   "cell_type": "code",
   "execution_count": 2,
   "metadata": {},
   "outputs": [],
   "source": [
    "Vertex = namedtuple('Vertex', ['id', 'x', 'y'])\n",
    "Request = namedtuple('Request', ['target', 'weight'])"
   ]
  },
  {
   "cell_type": "code",
   "execution_count": 3,
   "metadata": {},
   "outputs": [
    {
     "name": "stdout",
     "output_type": "stream",
     "text": [
      "[Vertex(id=0, x=82.0, y=76.0), Vertex(id=1, x=96.0, y=44.0), Vertex(id=2, x=50.0, y=5.0), Vertex(id=3, x=49.0, y=8.0), Vertex(id=4, x=13.0, y=7.0), Vertex(id=5, x=29.0, y=89.0), Vertex(id=6, x=58.0, y=30.0), Vertex(id=7, x=84.0, y=39.0), Vertex(id=8, x=14.0, y=24.0), Vertex(id=9, x=2.0, y=39.0), Vertex(id=10, x=3.0, y=82.0), Vertex(id=11, x=5.0, y=10.0), Vertex(id=12, x=98.0, y=52.0), Vertex(id=13, x=84.0, y=25.0), Vertex(id=14, x=61.0, y=59.0), Vertex(id=15, x=1.0, y=65.0), Vertex(id=16, x=88.0, y=51.0), Vertex(id=17, x=91.0, y=2.0), Vertex(id=18, x=19.0, y=32.0), Vertex(id=19, x=93.0, y=3.0), Vertex(id=20, x=50.0, y=93.0), Vertex(id=21, x=98.0, y=14.0), Vertex(id=22, x=5.0, y=42.0), Vertex(id=23, x=42.0, y=9.0), Vertex(id=24, x=61.0, y=62.0), Vertex(id=25, x=9.0, y=97.0), Vertex(id=26, x=80.0, y=55.0), Vertex(id=27, x=57.0, y=69.0), Vertex(id=28, x=23.0, y=15.0), Vertex(id=29, x=20.0, y=70.0), Vertex(id=30, x=85.0, y=60.0), Vertex(id=31, x=98.0, y=5.0)]\n",
      "[Request(target=1, weight=19.0), Request(target=2, weight=21.0), Request(target=3, weight=6.0), Request(target=4, weight=19.0), Request(target=5, weight=7.0), Request(target=6, weight=12.0), Request(target=7, weight=16.0), Request(target=8, weight=6.0), Request(target=9, weight=16.0), Request(target=10, weight=8.0), Request(target=11, weight=14.0), Request(target=12, weight=21.0), Request(target=13, weight=16.0), Request(target=14, weight=3.0), Request(target=15, weight=22.0), Request(target=16, weight=18.0), Request(target=17, weight=19.0), Request(target=18, weight=1.0), Request(target=19, weight=24.0), Request(target=20, weight=8.0), Request(target=21, weight=12.0), Request(target=22, weight=4.0), Request(target=23, weight=8.0), Request(target=24, weight=24.0), Request(target=25, weight=24.0), Request(target=26, weight=2.0), Request(target=27, weight=20.0), Request(target=28, weight=15.0), Request(target=29, weight=2.0), Request(target=30, weight=14.0), Request(target=31, weight=9.0)]\n"
     ]
    }
   ],
   "source": [
    "import xml.etree.ElementTree as ET\n",
    "\n",
    "tree = ET.parse('.\\\\domaci_ukol_data\\\\data_32.xml')\n",
    "root = tree.getroot()\n",
    "\n",
    "vertices = []\n",
    "requests = []\n",
    "\n",
    "nodes = root.find('network').find('nodes')\n",
    "vehicle_profile = root.find('fleet').find('vehicle_profile')\n",
    "items = root.find('requests')\n",
    "\n",
    "sdfsfd = nodes.findall('node')\n",
    "\n",
    "for node in nodes.findall('node'):\n",
    "    vertices.append(Vertex(int(node.attrib['id'])-1, float(node.find('cx').text), float(node.find('cy').text)))\n",
    "\n",
    "for item in items.findall('request'):\n",
    "    requests.append(Request(int(item.attrib['node'])-1, float(item.find('quantity').text)))\n",
    "\n",
    "# pprint.pprint(vertices)\n",
    "print(vertices)\n",
    "print(requests)"
   ]
  },
  {
   "cell_type": "code",
   "execution_count": 4,
   "metadata": {},
   "outputs": [],
   "source": [
    "def distance_matrix(vertices):\n",
    "    distances = np.zeros((len(vertices), len(vertices)))\n",
    "    for i in range(len(vertices)):\n",
    "        v1 = vertices[i]\n",
    "        for j in range(i, len(vertices)):\n",
    "            v2 = vertices[j]\n",
    "            dist = math.sqrt((v1.x - v2.x)**2+(v1.y - v2.y)**2)\n",
    "            distances[i,j] = dist\n",
    "            distances[j,i] = dist\n"
   ]
  },
  {
   "cell_type": "code",
   "execution_count": 5,
   "metadata": {},
   "outputs": [],
   "source": [
    "def fitness(vertices, distance, solution):\n",
    "    solution_distance = 0\n",
    "    for x, y in zip(solution, solution[1:]):\n",
    "        solution_distance += distance(vertices[x], vertices[y])\n",
    "    solution_distance += distance(vertices[solution[-1]], vertices[solution[0]])\n",
    "    return solution_distance"
   ]
  },
  {
   "cell_type": "code",
   "execution_count": 6,
   "metadata": {},
   "outputs": [],
   "source": [
    "distances = distance_matrix(vertices)"
   ]
  }
 ],
 "metadata": {
  "kernelspec": {
   "display_name": ".venv",
   "language": "python",
   "name": "python3"
  },
  "language_info": {
   "codemirror_mode": {
    "name": "ipython",
    "version": 3
   },
   "file_extension": ".py",
   "mimetype": "text/x-python",
   "name": "python",
   "nbconvert_exporter": "python",
   "pygments_lexer": "ipython3",
   "version": "3.9.13"
  },
  "orig_nbformat": 4
 },
 "nbformat": 4,
 "nbformat_minor": 2
}
