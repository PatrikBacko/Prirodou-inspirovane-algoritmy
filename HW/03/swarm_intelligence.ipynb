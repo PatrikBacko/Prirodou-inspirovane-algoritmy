{
 "cells": [
  {
   "cell_type": "markdown",
   "metadata": {},
   "source": [
    "# Rojové algoritmy\n",
    "\n",
    "Na dnešním cvičení se podíváme na další druhy přírodou inspirovaných algoritmů, které se používají pro optimalizační úlohy. Konkrétně to bude algoritmus na optimalizaci pomocí hejna částic a optimalizaci mravenčí kolonií. Oba algoritmy jsou relativně jednoduché na implementaci, a proto je napíšeme sami.\n",
    "\n",
    "## Optimalizace hejnem částic\n",
    "\n",
    "Optimalizace hejnem částic je optimalizační algoritmus inspirovaný chováním hejn ryb nebo ptáků při hledání potravy, který se používá pro spojitou optimalizaci. Jedinec, typicky vektor R čísel, se nazývá částice a pohybuje se v hejnu prostorem parametrů. Každá částice je reprezentovaná pomocí 2 vektorů, které určují její pozici a rychlost. Navíc si pamatuje pozici v prostoru, kde měla nejlepší fitness a celé hejno si pamatuje pozici, kde měla nějaká částice nejlepší globální fitness. \n",
    "\n",
    "Algoritmus je pak velice jednoduchý -- každá částice se pohybuje v prostoru a je přitahovaná k místu se svým nejlepším řešením a k místu globálního nejlepšího řešení. Na začátku se inicializuje každé částici pozice a rychlost náhodně. Pak se pro každou částici spočítá její fitness, updatuje se dosavadní nejlepší pozice jedince a globální nejlepší pozice v hejnu. Nakonec se spočítá nová rychlost a pozice jedince z původní pozice a rychlosti, jejího nejlepšího místa a globálního nejlepšího místa v hejnu. Toto se opakuje dokud není splněno nějaké ukončovací kritérium, například počet iterací.\n",
    "\n",
    "\n",
    "Zkusíme se tedy podívat na algoritmus optimalizace hejnem částic (v angličtině particle swarm optimalization (PSO)). Implementace je snadná, protože de facto stačí jenom opsat rovnice."
   ]
  },
  {
   "cell_type": "code",
   "execution_count": null,
   "metadata": {},
   "outputs": [],
   "source": [
    "from collections import namedtuple\n",
    "import math\n",
    "import functools\n",
    "import numpy as np\n",
    "import csv\n",
    "import pprint\n",
    "\n",
    "%matplotlib inline\n",
    "import matplotlib.pyplot as plt\n",
    "from matplotlib import collections as mc"
   ]
  },
  {
   "cell_type": "markdown",
   "metadata": {},
   "source": [
    "Začneme tím, že si definujeme třídu pro částici, která je definovaná svou pozicí a rychlostí. Zároveň si pamatuje svou nejlepší pozici v historii. Zároveň definujeme i metodu, aby se jedinec uměl sám vypsat."
   ]
  },
  {
   "cell_type": "code",
   "execution_count": null,
   "metadata": {},
   "outputs": [],
   "source": [
    "class Particle:\n",
    "    def __init__(self, position, speed):\n",
    "        self.position = position\n",
    "        self.speed = speed\n",
    "        self.best_position = position\n",
    "            \n",
    "    def __print__(self):\n",
    "        return str(self.position) + ', ' + str(self.speed) + ', ' + str(self.best_position)"
   ]
  },
  {
   "cell_type": "markdown",
   "metadata": {},
   "source": [
    "Na začátku algoritmu budeme potřebovat umět nainicializovat hejno. To uděláme tak, že každé částici zvolíme náhodnou počáteční pozici a rychlost. Rychlosti se typicky nastavují menší. "
   ]
  },
  {
   "cell_type": "code",
   "execution_count": null,
   "metadata": {},
   "outputs": [],
   "source": [
    "def init_swarm(size, dimension):\n",
    "    swarm = []\n",
    "    for _ in range(size):\n",
    "        swarm.append(Particle(position = np.random.uniform(size=(1,dimension)), \n",
    "                              speed = 0.2*np.random.uniform(size=(1,dimension)) - 0.1))\n",
    "    return swarm"
   ]
  },
  {
   "cell_type": "markdown",
   "metadata": {},
   "source": [
    "Dále budeme potřebovat funkci na aktualizaci pozic a rychlostí všech částic v hejnu podle rovnic."
   ]
  },
  {
   "cell_type": "code",
   "execution_count": null,
   "metadata": {},
   "outputs": [],
   "source": [
    "def update_swarm(swarm, fit, best_global, phi1=1, phi2=0.5, omega=0.95):\n",
    "    for particle in swarm:\n",
    "        particle.speed = omega*particle.speed + phi1*(particle.best_position - particle.position) + phi2*(best_global - particle.position)\n",
    "        particle.position = particle.position + particle.speed\n",
    "        \n",
    "        if fit(particle.position) < fit(particle.best_position):\n",
    "            particle.best_position=particle.position\n",
    "    return swarm"
   ]
  },
  {
   "cell_type": "markdown",
   "metadata": {},
   "source": [
    "Také bude potřeba funkce na update nejlepšího globálního řešení. K tomu si definujeme fitness funkci, která bude jen hodnota rastrigin funkce v daném bodě."
   ]
  },
  {
   "cell_type": "code",
   "execution_count": null,
   "metadata": {},
   "outputs": [],
   "source": [
    "def compute_best_global_position(swarm, fit):\n",
    "    return min(swarm, key=lambda x: fit(x.best_position)).best_position\n",
    "\n",
    "# fitness funkce\n",
    "def fitness(position):\n",
    "    position = position[0]\n",
    "    N = len(position)\n",
    "    A = 10\n",
    "    value = A*N\n",
    "    for i in range(0,len(position)):\n",
    "        value += position[i]**2 - A*math.cos(2*math.pi*position[i])\n",
    "    return value, "
   ]
  },
  {
   "cell_type": "markdown",
   "metadata": {},
   "source": [
    "Nyní už máme všechny funkce, takže si už můžeme definovat hlavní kód algoritmu optimalizace hejnem částic."
   ]
  },
  {
   "cell_type": "code",
   "execution_count": null,
   "metadata": {},
   "outputs": [],
   "source": [
    "def pso(fitness, swarm_size, problem_dim, max_iters):\n",
    "    swarm = init_swarm(size=swarm_size, dimension=problem_dim)\n",
    "    best_global_position = compute_best_global_position(swarm, fitness)\n",
    "    best_fitness = []\n",
    "    for iteration in range(max_iters):\n",
    "        swarm = update_swarm(swarm, fitness, best_global_position)\n",
    "        best_global_position = compute_best_global_position(swarm, fitness)\n",
    "        print(f'{iteration:4}: {fitness(best_global_position)[0]:.4f}')\n",
    "        best_fitness.append(fitness(best_global_position)[0])\n",
    "    return best_global_position, best_fitness"
   ]
  },
  {
   "cell_type": "markdown",
   "metadata": {},
   "source": [
    "Když máme napsaný celý algoritmus, můžeme ho zkusit otestovat například na problému [Rastrigin funkce](https://en.wikipedia.org/wiki/Rastrigin_function), který jsme řešili na cvičení s evolučními algoritmy. O této funkci jsme si říkali, že je typickým příkladem nelineární funkce a běžně se používá při testování chování optimalizačních algoritmů. Navíc nalezení jejího minima je složité, protože obsahuje spoustu lokálních minim. Minimum funkce je v bodě 0 s hodnotou 0."
   ]
  },
  {
   "cell_type": "code",
   "execution_count": null,
   "metadata": {},
   "outputs": [],
   "source": [
    "best_position, best_fitness = pso(fitness, swarm_size=1000, problem_dim=4, max_iters=30)\n",
    "print('best position')\n",
    "print(best_position)\n",
    "\n",
    "plt.plot(best_fitness)\n",
    "plt.ylabel('Fitness')\n",
    "plt.xlabel('Generace')"
   ]
  },
  {
   "cell_type": "markdown",
   "metadata": {},
   "source": [
    "Zde si můžeme zkusit měnit dimenzi problému a pozorovat, že pro rostoucí dimenzi je třeba zvětšovat velikost hejna, aby se algoritmus nezasekl v lokálním optimu a že na počtu generací to až zas tolik nezáleží, protože algoritmus brzy zkonverguje do nějakého optima a tam už zůstane.\n",
    "\n",
    "## Optimalizace mravenčí kolonií\n",
    "\n",
    "Optimalizace mravenčí kolonií (Ant Colony Optimization (ACO)) je algoritmus inspirovaný chováním mravenců při hledání potravy, který se hodí především pro kombinatorickou optimalizaci, konkrétně na problémy, které se dají převést na problém hledání cest v grafu. \n",
    "\n",
    "Mravenci se pohybují v prostředí a zanechávají za sebou feromonouvou stopu, která časem slábne a díky které spolu komunikují a slouží jim jako pozitivní druh zpětné vazby. Mravenec začne v náhodném bodě a rozhoduje se kam půjde dál. Nejprve se pohybují náhodně kolem mraveniště. Jakmile naleznou potravu, vrací se stejnou cestou, kterou k potravě došli a zanechávají za sebou feromonovou stopu. Jakmile nějkaý další mravenec narazí na feromonovou stopu, s větší pravděpodobností se po ní vydá spíše, než aby dále prozkoumával prostředí. Čím více mravenců se pohybuje mezi zdrojem potravy a mraveništěm, tím silnější je stopa a šance, že cesta přitáhne další mravence. Navíc na kratší cestě feromon vyprchává pomaleji, takže bude silnější a bude přitahovat více mravenců.\n",
    "\n",
    "Jen tak pro zajímavost rozhraní pro modelování různých přírodou inspirovaných systémů a algoritmů [NetLogo](http://ccl.northwestern.edu/netlogo/) poskytuje i simulaci mravenečků při hledání potravy. Podívat se na ně můžeme [zde](http://www.netlogoweb.org/launch#http://www.netlogoweb.org/assets/modelslib/Sample%20Models/Biology/Ants.nlogo).\n",
    "\n",
    "Zkusíme si s jeho pomocí vyřešit [Problém obchodního cestujícího](https://en.wikipedia.org/wiki/Travelling_salesman_problem), který se dá převést na problém hledání nejkratší Hamiltonovské kružnice v úplném grafu. Hamiltonovská kružnice v grafu je kružnice, která prochází všemi vrcholy. Implementace už je zde trochu složitější, ale pořád celkem rozumná.\n",
    "\n",
    "Nejprve si vytvoříme kolekci ```namedtuple```, do které si uložíme informace o vrcholu, tedy jeho souřadnice a název. Je vhodnější než normální třída, protože je to rychlejší struktura. "
   ]
  },
  {
   "cell_type": "code",
   "execution_count": null,
   "metadata": {},
   "outputs": [],
   "source": [
    "Vertex = namedtuple('Vertex', ['name', 'x', 'y'])"
   ]
  },
  {
   "cell_type": "markdown",
   "metadata": {},
   "source": [
    "Dále budeme potřebovat funkci, co nám spočítá vzdálenost dvou bodů. To uděláme chytře a použijeme k tomu lru (least recently used) cache, která si pamatuje si vyhodnocené funkce a při jejich opakovaném volání se stejnými parametry se nemusí znovu vyhodnocovat."
   ]
  },
  {
   "cell_type": "code",
   "execution_count": null,
   "metadata": {},
   "outputs": [],
   "source": [
    "@functools.lru_cache(maxsize=None)\n",
    "def distance(v1, v2):\n",
    "    return math.sqrt((v1.x - v2.x)**2+(v1.y - v2.y)**2)"
   ]
  },
  {
   "cell_type": "markdown",
   "metadata": {},
   "source": [
    "Dále se bude hodit fitness funkce, která jen vyhodnotí danou cestu mezi městy tak, ze bere dvojice po sobě jdoucích vrcholů v řešení a sčítá vzdálenosti měst."
   ]
  },
  {
   "cell_type": "code",
   "execution_count": null,
   "metadata": {},
   "outputs": [],
   "source": [
    "def fitness(vertices, distance, solution):\n",
    "    solution_distance = 0\n",
    "    for x, y in zip(solution, solution[1:]):\n",
    "        solution_distance += distance(vertices[x], vertices[y])\n",
    "    solution_distance += distance(vertices[solution[-1]], vertices[solution[0]])\n",
    "    return solution_distance"
   ]
  },
  {
   "attachments": {},
   "cell_type": "markdown",
   "metadata": {},
   "source": [
    "Samotný algoritmus bude ještě potřebovat funkci na počáteční inicializaci feromonu, která by sice měla být stopa všude nulová, ale protože s ní pracujeme jako s pravděpodobností, tak by to nefungovalo, tak ji nastavíme na nějakou malou hodnotu. Také bude potřeba dělat update feromonu a to tak, že na všechny hrany v cestě rozpočítáme rovnoměrně tu fitness, která říká, jak byla váha dobrá. A protože délku chceme minimalizovat, takže použijeme inverzní Q/fit, kde Q bude nějaká bulharská konstanta."
   ]
  },
  {
   "cell_type": "code",
   "execution_count": null,
   "metadata": {},
   "outputs": [],
   "source": [
    "def initialize_pheromone(N):\n",
    "    return 0.01*np.ones(shape=(N,N))\n",
    "\n",
    "def update_pheromone(pheromones_array, solutions, fits, Q=100, rho=0.6):\n",
    "    pheromone_update = np.zeros(shape=pheromones_array.shape)\n",
    "    for solution, fit in zip(solutions, fits):\n",
    "        for x, y in zip(solution, solution[1:]):\n",
    "            pheromone_update[x][y] += Q/fit\n",
    "        pheromone_update[solution[-1]][solution[0]] += Q/fit\n",
    "    \n",
    "    return (1-rho)*pheromones_array + pheromone_update"
   ]
  },
  {
   "cell_type": "markdown",
   "metadata": {},
   "source": [
    "Ještě nám zbývá pomocná funkce, kde mravenec generuje řešení, tedy náhodně prochází města, dokud neobejde všechny. Pak už můžeme napsat hlavní funkci algoritmu, kde se vytváří řešení, a podle jejich kvality se upravuje feromon na hranách. Zároveň si pamatujeme nejlepší řešení, abychom ho na konci mohli vrátit."
   ]
  },
  {
   "cell_type": "code",
   "execution_count": null,
   "metadata": {},
   "outputs": [],
   "source": [
    "def generate_solutions(vertices, pheromones, distance, N, alpha=1, beta=3):\n",
    "    \n",
    "    # pravdepodobnost vyberu dalsiho mesta\n",
    "    def compute_prob(v1, v2):\n",
    "        dist = 1/distance(vertices[v1], vertices[v2])\n",
    "        tau = pheromones[v1, v2]\n",
    "        ret = pow(tau, alpha) * pow(dist,beta)\n",
    "        return ret if ret > 0.000001 else 0.000001\n",
    "\n",
    "    pheromones_shape = pheromones.shape[0]\n",
    "    for i in range(N):\n",
    "        available = list(range(pheromones_shape))\n",
    "        solution = [np.random.randint(0, pheromones_shape)]\n",
    "        available.remove(solution[0])\n",
    "        while available:\n",
    "            probs = np.array(list(map(lambda x: compute_prob(solution[-1], x), available)))\n",
    "            selected = np.random.choice(available, p=probs/sum(probs)) # vyber hrany\n",
    "            solution.append(selected)\n",
    "            available.remove(selected)\n",
    "        yield solution\n"
   ]
  },
  {
   "cell_type": "markdown",
   "metadata": {},
   "source": [
    "Nyní už si můžeme vytvořit hlavní kód ACO."
   ]
  },
  {
   "cell_type": "code",
   "execution_count": null,
   "metadata": {},
   "outputs": [],
   "source": [
    "def ant_solver(vertices, distance, ants=10, max_iterations=3000, alpha=1, beta=3, Q=100, rho=0.8):\n",
    "    pheromones = initialize_pheromone(len(vertices))\n",
    "    best_solution = None\n",
    "    best_fitness = float('inf')\n",
    "    \n",
    "    for i in range(max_iterations):\n",
    "        solutions = list(generate_solutions(vertices, pheromones, distance, ants, alpha=alpha, beta=beta))\n",
    "        fits = list(map(lambda x: fitness(vertices, distance, x), solutions))\n",
    "        pheromones = update_pheromone(pheromones, solutions, fits, Q=Q, rho=rho)\n",
    "        \n",
    "        for s, f in zip(solutions, fits):\n",
    "            if f < best_fitness:\n",
    "                best_fitness = f\n",
    "                best_solution = s\n",
    "        \n",
    "        print(f'{i:4}, {np.min(fits):.4f}, {np.mean(fits):.4f}, {np.max(fits):.4f}')\n",
    "    return best_solution, pheromones"
   ]
  },
  {
   "cell_type": "markdown",
   "metadata": {},
   "source": [
    "Zkusíme si nyní algoritmus otestovat na hlavních evropských městech, vstupní data jsou uložena v souboru *cities.csv*."
   ]
  },
  {
   "cell_type": "code",
   "execution_count": null,
   "metadata": {},
   "outputs": [],
   "source": [
    "vertices = []\n",
    "with open('cities.csv') as cities_file:\n",
    "    csv_reader = csv.reader(cities_file, delimiter=',')\n",
    "    for row in csv_reader:\n",
    "        vertices.append(Vertex(row[0], float(row[2]), float(row[1])))\n",
    "\n",
    "pprint.pprint(vertices)\n",
    "\n",
    "best_solution, pheromones = ant_solver(vertices, distance)"
   ]
  },
  {
   "cell_type": "markdown",
   "metadata": {},
   "source": [
    "Vykreslíme si nalezené řešení a množství feromononu na jednotlivých hranách. Feromon bude modrý, tloušťka čáry značí množství feromonu na hraně. Červenou barvou vykreslíme nejlepší řešení a vypíšeme si i jeho fitness a pořadí měst v něm. Odkomentováním zakomentované řádky si můžete vyzkoušet, jak různé nastavení alpha a beta ovlivňuje nalezená řešení. "
   ]
  },
  {
   "cell_type": "code",
   "execution_count": null,
   "metadata": {},
   "outputs": [],
   "source": [
    "lines = []\n",
    "colors = []\n",
    "for i, v1 in enumerate(vertices):\n",
    "    for j, v2 in enumerate(vertices):\n",
    "        lines.append([(v1.x, v1.y), (v2.x, v2.y)])\n",
    "        colors.append(pheromones[i][j])\n",
    "\n",
    "lc = mc.LineCollection(lines, linewidths=np.array(colors))\n",
    "\n",
    "plt.figure(figsize=(12, 8))\n",
    "ax = plt.gca()\n",
    "ax.add_collection(lc)\n",
    "ax.autoscale()\n",
    "\n",
    "solution = best_solution\n",
    "\n",
    "# tady muzeme zkouset vliv jednotlivych parametru na vygenerovane reseni\n",
    "# solution = list(generate_solutions(vertices, pheromones, distance, N=1, alpha=3, beta=1))[0]\n",
    "\n",
    "print('Fitness: ', fitness(vertices, distance, solution))\n",
    "\n",
    "solution_vertices = [vertices[i] for i in solution]\n",
    "pprint.pprint(solution_vertices)\n",
    "\n",
    "solution_lines = []\n",
    "for i, j in zip(solution, solution[1:]):\n",
    "    solution_lines.append([(vertices[i].x, vertices[i].y), (vertices[j].x, vertices[j].y)])\n",
    "solution_lines.append([(vertices[solution[-1]].x, vertices[solution[-1]].y), (vertices[solution[0]].x, vertices[solution[0]].y)])\n",
    "solutions_lc = mc.LineCollection(solution_lines, colors='red')\n",
    "ax.add_collection(solutions_lc)"
   ]
  },
  {
   "cell_type": "markdown",
   "metadata": {},
   "source": [
    "Pěkná simulace hledání nejkratší cesty v grafu se nachází [zde](http://thiagodnf.github.io/aco-simulator).\n",
    "\n",
    "## Úkol na cvičení\n",
    "\n",
    "Poslední zmiňovaný algoritmus, který zde ale není naimplementovaný, je optimalizace pomocí včelí kolonie. Umělé včelí kolonie (ABC) je optimalizační algoritmus založený na chování včel při hledání potravy. Včely jsou rozděleny do třech skupin - na dělnice, vyčkávající včely a průzkumníky. Každá dělnice opracovává jeden zdroj jídla (a pozice těchto zdrojů kódují řešení). Při opracování dělnice navštíví zdroje jídla v okolí, a pokud je jiné řešení kvalitnější (má lepší fitness) nahradí svůj zdroj tímto novým zdrojem. Potom se všechny dělnice sejdou v úle, vymění si informace o kvalitě zdrojů a vyčkávající včely si vyberou některé z těchto zdrojů pomocí ruletové selekce. Dělnice si zároveň pamatují, jak dlouho už opracovávají daný zdroj, a pokud přesáhne tato doba nastavený limit, zdroj opustí a stanou se z nich průzkumníci. Průzkumníci prohledávají prostor náhodně a hledají nové zdroje potravy\n",
    "\n",
    "Zkuste si tedy naimplementovat ve zbytku cvičení optimalizaci pomocí včelí kolonie a vyřešit s ní třeba problém rastrigin funkce, který je výše vyřešený pomocí optimalizace hejna částic.\n",
    "\n",
    "## Domácí úkol\n",
    "\n",
    "Za domácí úkol budete mít vyřešit pomocí optimalizace mravenčí kolonií [Vehicle Routing Problem](https://en.wikipedia.org/wiki/Vehicle_routing_problem), což je vlastně jen zobecněný problém obchodního cestujícího na princip optimalizace rozvozu zásilek doručovací společnosti. Jedná se o to, že máme depa, každé má svá vlastní vozidla s danou kapacitou a nějakou množinu zásilek, které je potřeba rozvézt k jejich majitelům. Cílem je najít množinu doručovacích tras tak, aby byly všechny zásilky dodány majitelům a aby byly minimalizované celkové náklady, tedy aby byl použit co nejmenší počet vozidel a aby byly trasy co nejkratší.\n",
    "\n",
    "V našem případě použijeme zjednodušenou verzi tohoto problému s jedním depem, které má neomezený počet vozidel jednoho typu. Vstupní data najdete ve složce *domaci_ukol_data*, jsou ve formátu xml a obsahují 3 soubory -- 2 malé a jeden větší, které zároveň obsahují:\n",
    "- Seznam uzlů se souřadnicemi x a y, kdy uzel s typem 0 je depo, a ty ostatní s typem 1 jsou lokace zákazníků.\n",
    "- Seznam vozidel, v tomto případě máme jeden typ vozidla, které musí začínat a končit v depu a má nějakou maximální kapacitu předmětů, které uveze.\n",
    "- Seznam požadavků, neboli do jakého uzlu se toho má co dovézt.\n",
    "\n",
    "Svůj kód, popis řešení, výsledky a jejich rozbor mi pošlete emailem do stanoveného deadline. Pro sepsání popisu algoritmu a výsledků použijte [tento template](https://github.com/kackamac/Prirodou-inspirovane-algoritmy/blob/master/11_rojove%20algoritmy/DU3_spojita_optimalizace.pdf)."
   ]
  },
  {
   "cell_type": "code",
   "execution_count": null,
   "metadata": {},
   "outputs": [],
   "source": []
  }
 ],
 "metadata": {
  "kernelspec": {
   "display_name": "Python 3 (ipykernel)",
   "language": "python",
   "name": "python3"
  },
  "language_info": {
   "codemirror_mode": {
    "name": "ipython",
    "version": 3
   },
   "file_extension": ".py",
   "mimetype": "text/x-python",
   "name": "python",
   "nbconvert_exporter": "python",
   "pygments_lexer": "ipython3",
   "version": "3.9.13"
  }
 },
 "nbformat": 4,
 "nbformat_minor": 2
}
