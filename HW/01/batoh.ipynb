{
 "cells": [
  {
   "attachments": {},
   "cell_type": "markdown",
   "metadata": {},
   "source": [
    "## Domácí úkol - Batoh\n",
    "\n",
    "Za domácí úkol budete mít vyřešit pomocí evolučního algoritmu problém batohu. Ten spočívá v tom, že máme batoh kapacity K a N předmětů, každý s cenou c<sub>i</sub> a objemem v<sub>i</sub> a chceme vybrat takové věci, abychom maximalizovali zisk a zároveň abychom nepřekročili kapacitu batohu. \n",
    "\n",
    "Vstupní data máte ve složce *domaci_ukol_data*. Obsahuje čtyři soubory s daty a dva s výsledky. Na první řádce souboru s daty je vždy počet předmětů a kapacita batohu oddělené mezerou, každý další následující řádek obsahuje cenu a objem předmětu taktéž oddělené mezerou. První dva soubory slouží pro snažší odladění evolučního algoritmu a obsahují i k sobě extra soubory s optimálním řešením. Na dalších dvou máte za úkol algoritmus pustit a výsledky na nich naměřené mi poslat. \n",
    "\n",
    "Napište tedy nějaký svůj evoluční algoritmus, který bude řešit problém batohu a pusťte ho na vstupních datech. Svůj kód, popis evolučního algoritmu (zvolené evoluční operátory, kódování jedince, atd.) a rozbor výsledků, včetně nejlepšího dosaženého skóre i s jejich odůvodněním mi pošlete emailem do stanoveného deadline.  Pro sepsání popisu vašeho evolučního algoritmu, parametrů evoluce, zvolené reprezentace jedince a rozboru výsledků použijte [tento template](https://github.com/kackamac/Prirodou-inspirovane-algoritmy/blob/master/04_spojita_reprezentace/DU1_evolucni_algoritmy.pdf)."
   ]
  },
  {
   "attachments": {},
   "cell_type": "markdown",
   "metadata": {},
   "source": [
    "##### Importy"
   ]
  },
  {
   "cell_type": "code",
   "execution_count": 5,
   "metadata": {},
   "outputs": [],
   "source": [
    "import array\n",
    "import random\n",
    "import numpy as np\n",
    "import math\n",
    "\n",
    "from deap import algorithms\n",
    "from deap import base\n",
    "from deap import creator\n",
    "from deap import tools"
   ]
  },
  {
   "attachments": {},
   "cell_type": "markdown",
   "metadata": {},
   "source": [
    "#### first try - binárny jedinci\n",
    "\n",
    "max fitness (cena ju zvyšuje a váha prekročená cez max nosnosť batohu prináša postihy)"
   ]
  },
  {
   "cell_type": "code",
   "execution_count": 6,
   "metadata": {},
   "outputs": [],
   "source": [
    "class Item:\n",
    "    def __init__(self, weight, price) -> None:\n",
    "        self.weight = weight\n",
    "        self.price = price"
   ]
  },
  {
   "attachments": {},
   "cell_type": "markdown",
   "metadata": {},
   "source": [
    "Inicializácia itemov, veľkosti a veľkosti batohu"
   ]
  },
  {
   "cell_type": "code",
   "execution_count": 44,
   "metadata": {},
   "outputs": [],
   "source": [
    "random.seed(64) \n",
    "items_count = 20\n",
    "\n",
    "weight_bounds = (10,200)\n",
    "price_bounds = (10,200)\n",
    "\n",
    "# items = [Item(\n",
    "#         random.randint(weight_bounds[0],weight_bounds[1]), \n",
    "#         random.randint(price_bounds[0],price_bounds[1]))] * items_count\n",
    "\n",
    "weights = random.sample(range(weight_bounds[0],weight_bounds[1]), items_count)\n",
    "prices = random.sample(range(price_bounds[0],price_bounds[1]), items_count)\n",
    "\n",
    "max_weight = 1000"
   ]
  },
  {
   "cell_type": "code",
   "execution_count": 61,
   "metadata": {},
   "outputs": [],
   "source": [
    "#import weights and prices from txt\n",
    "file_path = \"domaci_ukol_data/debugging_data_20.txt\"\n",
    "\n",
    "weights = []\n",
    "prices = []\n",
    "\n",
    "with open(file_path) as file:\n",
    "    line_split = file.readline().split(\" \")\n",
    "    items_count = int(line_split[0])\n",
    "    max_weight = int(line_split[1])\n",
    "    for i in range(items_count):\n",
    "        line_split = file.readline().split(\" \")\n",
    "        prices.append(int(line_split[0]))\n",
    "        weights.append(int(line_split[1]))\n",
    "        \n",
    "        "
   ]
  },
  {
   "cell_type": "code",
   "execution_count": 62,
   "metadata": {},
   "outputs": [],
   "source": [
    "def fitness_batoh_bin(individual):\n",
    "    total_price = np.sum(np.array(individual) @ np.array(prices))\n",
    "    total_weight = np.sum(np.array(individual) @ np.array(weights))\n",
    "\n",
    "    if total_weight <= max_weight:\n",
    "        return total_price,\n",
    "    else:\n",
    "        return 1,"
   ]
  },
  {
   "cell_type": "code",
   "execution_count": 63,
   "metadata": {},
   "outputs": [],
   "source": [
    "indv_size = len(weights)\n",
    "\n",
    "creator.create(\"FitnessMax\", base.Fitness, weights=(1.0,))\n",
    "creator.create(\"Individual\", array.array, typecode='b', fitness=creator.FitnessMax)\n",
    "\n",
    "toolbox = base.Toolbox()\n",
    "\n",
    "toolbox.register(\"attr_bool\", random.randint, 0, 1)\n",
    "toolbox.register(\"individual\", tools.initRepeat, creator.Individual, toolbox.attr_bool, indv_size)\n",
    "toolbox.register(\"population\", tools.initRepeat, list, toolbox.individual)\n",
    "toolbox.register(\"evaluate\", fitness_batoh_bin)\n",
    "toolbox.register(\"mate\", tools.cxTwoPoint)\n",
    "toolbox.register(\"mutate\", tools.mutFlipBit, indpb=0.05)\n",
    "toolbox.register(\"select\", tools.selRoulette)"
   ]
  },
  {
   "cell_type": "code",
   "execution_count": 65,
   "metadata": {},
   "outputs": [
    {
     "name": "stdout",
     "output_type": "stream",
     "text": [
      "gen\tnevals\tavg    \tstd    \tmin\tmax\n",
      "0  \t200   \t541.855\t138.802\t168\t896\n",
      "1  \t123   \t592.665\t140.876\t248\t931\n",
      "2  \t108   \t607.105\t152.204\t1  \t931\n",
      "3  \t111   \t654.42 \t136.836\t259\t931\n",
      "4  \t105   \t660.525\t149.229\t1  \t937\n",
      "5  \t124   \t691.83 \t141.151\t1  \t931\n",
      "6  \t138   \t713.7  \t138.173\t1  \t956\n",
      "7  \t123   \t707.25 \t179.854\t1  \t995\n",
      "8  \t125   \t737.73 \t146.059\t1  \t984\n",
      "9  \t113   \t733.6  \t163.216\t1  \t984\n",
      "10 \t103   \t762.475\t115.097\t1  \t964\n",
      "11 \t131   \t775.65 \t138.029\t1  \t964\n",
      "12 \t121   \t787.305\t118.698\t1  \t1013\n",
      "13 \t106   \t774.975\t153.543\t1  \t1013\n",
      "14 \t104   \t774.815\t152.33 \t1  \t1013\n",
      "15 \t129   \t768.19 \t183.7  \t1  \t1013\n",
      "16 \t128   \t773.19 \t185.161\t1  \t1013\n",
      "17 \t137   \t791.9  \t148.781\t1  \t977 \n",
      "18 \t122   \t799.885\t147.124\t1  \t976 \n",
      "19 \t128   \t813.955\t126.006\t1  \t1004\n",
      "20 \t126   \t808.49 \t135.455\t1  \t1009\n",
      "21 \t119   \t792.975\t164.071\t1  \t997 \n",
      "22 \t114   \t812.185\t133.008\t1  \t997 \n",
      "23 \t126   \t804.2  \t158.691\t1  \t997 \n",
      "24 \t122   \t784.58 \t194.595\t1  \t1005\n",
      "25 \t117   \t781.47 \t184.066\t1  \t1005\n",
      "26 \t116   \t792.27 \t187.331\t1  \t1005\n",
      "27 \t120   \t771.375\t223.496\t1  \t1005\n",
      "28 \t126   \t796.97 \t170.207\t1  \t1024\n",
      "29 \t126   \t789.7  \t178.595\t1  \t1024\n",
      "30 \t108   \t811.05 \t144.671\t1  \t1024\n",
      "31 \t132   \t792.84 \t183.13 \t1  \t1024\n",
      "32 \t128   \t815.97 \t146.395\t1  \t1024\n",
      "33 \t130   \t814.76 \t147.927\t1  \t1024\n",
      "34 \t126   \t812.085\t171.564\t1  \t1024\n",
      "35 \t119   \t803.405\t192.422\t1  \t1009\n",
      "36 \t135   \t796.295\t203.884\t1  \t1009\n",
      "37 \t120   \t811.1  \t168.657\t1  \t1024\n",
      "38 \t118   \t823.805\t155.125\t1  \t1005\n",
      "39 \t127   \t812.11 \t165.258\t1  \t1018\n",
      "40 \t102   \t806.87 \t162.152\t1  \t1009\n",
      "41 \t139   \t789.85 \t188.903\t1  \t1009\n",
      "42 \t109   \t839.05 \t94.696 \t1  \t1009\n",
      "43 \t116   \t851.785\t79.5048\t530\t1009\n",
      "44 \t123   \t854.015\t97.3825\t1  \t1024\n",
      "45 \t124   \t851.1  \t114.731\t1  \t1018\n",
      "46 \t111   \t849.545\t121.952\t1  \t1016\n",
      "47 \t128   \t847.205\t146.295\t1  \t1010\n",
      "48 \t113   \t866.39 \t102.942\t1  \t1024\n",
      "49 \t122   \t845.03 \t144.014\t1  \t1024\n",
      "50 \t133   \t842.75 \t153.684\t1  \t1010\n",
      "51 \t114   \t858.93 \t142.247\t1  \t1018\n",
      "52 \t134   \t869.25 \t98.1783\t1  \t1010\n",
      "53 \t109   \t852.095\t134.161\t1  \t1016\n",
      "54 \t130   \t861.63 \t130.874\t1  \t1024\n",
      "55 \t114   \t871.35 \t100.701\t1  \t1024\n",
      "56 \t132   \t838.405\t180.328\t1  \t1013\n",
      "57 \t130   \t812.415\t229.298\t1  \t1018\n",
      "58 \t129   \t862.98 \t122.512\t1  \t1018\n",
      "59 \t131   \t846.39 \t161.291\t1  \t1018\n",
      "60 \t101   \t849.77 \t158.521\t1  \t1018\n",
      "61 \t134   \t839.4  \t181.525\t1  \t1024\n",
      "62 \t126   \t843.245\t160.101\t1  \t1018\n",
      "63 \t103   \t858.03 \t137.929\t1  \t1018\n",
      "64 \t126   \t840.345\t160.306\t1  \t1018\n",
      "65 \t111   \t840.5  \t148.6  \t1  \t1018\n",
      "66 \t118   \t850.7  \t122.073\t1  \t1010\n",
      "67 \t130   \t833.55 \t170.751\t1  \t1024\n",
      "68 \t108   \t838.55 \t148.721\t1  \t1024\n",
      "69 \t106   \t845.01 \t106.889\t1  \t1024\n",
      "70 \t119   \t843.68 \t140.033\t1  \t1016\n",
      "71 \t130   \t866.675\t86.5025\t641\t1004\n",
      "72 \t130   \t838.32 \t148.583\t1  \t1010\n",
      "73 \t129   \t847.685\t121.152\t1  \t1010\n",
      "74 \t122   \t843.085\t123.19 \t1  \t1010\n",
      "75 \t107   \t845.32 \t134.288\t1  \t1018\n",
      "76 \t103   \t860.945\t103.245\t1  \t1018\n",
      "77 \t122   \t841.38 \t156.277\t1  \t1018\n",
      "78 \t137   \t839.49 \t157.43 \t1  \t1016\n",
      "79 \t120   \t852.325\t134.362\t1  \t1016\n",
      "80 \t105   \t849.41 \t89.7003\t582\t1016\n",
      "81 \t106   \t839.045\t121.079\t1  \t1016\n",
      "82 \t121   \t837.715\t134.902\t1  \t1016\n",
      "83 \t117   \t840.33 \t107.465\t1  \t1024\n",
      "84 \t123   \t836.115\t107.306\t1  \t1024\n",
      "85 \t128   \t826.67 \t130.568\t1  \t1018\n",
      "86 \t133   \t829.88 \t106.646\t1  \t1018\n",
      "87 \t126   \t818.95 \t145.708\t1  \t1018\n",
      "88 \t105   \t826.16 \t123.669\t1  \t1016\n",
      "89 \t109   \t825.155\t157.838\t1  \t1016\n",
      "90 \t133   \t838.695\t124.65 \t1  \t1016\n",
      "91 \t131   \t821.78 \t170.873\t1  \t1018\n",
      "92 \t134   \t825.73 \t163.655\t1  \t1010\n",
      "93 \t123   \t829.425\t174.414\t1  \t1018\n",
      "94 \t129   \t862.91 \t91.0023\t624\t1018\n",
      "95 \t125   \t858.96 \t106.411\t1  \t1018\n",
      "96 \t118   \t839.77 \t173.993\t1  \t1010\n",
      "97 \t119   \t873.52 \t106.894\t1  \t1018\n",
      "98 \t123   \t869.065\t110.019\t1  \t1018\n",
      "99 \t128   \t864.935\t138.672\t1  \t1024\n",
      "100\t119   \t871.705\t139.75 \t1  \t1024\n"
     ]
    }
   ],
   "source": [
    "pop = toolbox.population(n=200)\n",
    "hof = tools.HallOfFame(1)\n",
    "stats = tools.Statistics(lambda ind: ind.fitness.values)\n",
    "stats.register(\"avg\", np.mean)\n",
    "stats.register(\"std\", np.std)\n",
    "stats.register(\"min\", np.min)\n",
    "stats.register(\"max\", np.max)\n",
    "\n",
    "pop, log = algorithms.eaSimple(pop, toolbox, cxpb=0.5, mutpb=0.2, ngen=100, \n",
    "                               stats=stats, halloffame=hof, verbose=True)"
   ]
  },
  {
   "cell_type": "code",
   "execution_count": 48,
   "metadata": {},
   "outputs": [
    {
     "name": "stdout",
     "output_type": "stream",
     "text": [
      "(1000,)\n"
     ]
    }
   ],
   "source": [
    "print(fitness_batoh_bin(hof))"
   ]
  }
 ],
 "metadata": {
  "kernelspec": {
   "display_name": "Python 3",
   "language": "python",
   "name": "python3"
  },
  "language_info": {
   "codemirror_mode": {
    "name": "ipython",
    "version": 3
   },
   "file_extension": ".py",
   "mimetype": "text/x-python",
   "name": "python",
   "nbconvert_exporter": "python",
   "pygments_lexer": "ipython3",
   "version": "3.9.13"
  },
  "orig_nbformat": 4
 },
 "nbformat": 4,
 "nbformat_minor": 2
}
