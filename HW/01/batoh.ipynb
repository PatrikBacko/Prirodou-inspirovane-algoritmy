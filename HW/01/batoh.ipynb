{
 "cells": [
  {
   "attachments": {},
   "cell_type": "markdown",
   "metadata": {},
   "source": [
    "## Domácí úkol - Batoh\n",
    "\n",
    "Za domácí úkol budete mít vyřešit pomocí evolučního algoritmu problém batohu. Ten spočívá v tom, že máme batoh kapacity K a N předmětů, každý s cenou c<sub>i</sub> a objemem v<sub>i</sub> a chceme vybrat takové věci, abychom maximalizovali zisk a zároveň abychom nepřekročili kapacitu batohu. \n",
    "\n",
    "Vstupní data máte ve složce *domaci_ukol_data*. Obsahuje čtyři soubory s daty a dva s výsledky. Na první řádce souboru s daty je vždy počet předmětů a kapacita batohu oddělené mezerou, každý další následující řádek obsahuje cenu a objem předmětu taktéž oddělené mezerou. První dva soubory slouží pro snažší odladění evolučního algoritmu a obsahují i k sobě extra soubory s optimálním řešením. Na dalších dvou máte za úkol algoritmus pustit a výsledky na nich naměřené mi poslat. \n",
    "\n",
    "Napište tedy nějaký svůj evoluční algoritmus, který bude řešit problém batohu a pusťte ho na vstupních datech. Svůj kód, popis evolučního algoritmu (zvolené evoluční operátory, kódování jedince, atd.) a rozbor výsledků, včetně nejlepšího dosaženého skóre i s jejich odůvodněním mi pošlete emailem do stanoveného deadline.  Pro sepsání popisu vašeho evolučního algoritmu, parametrů evoluce, zvolené reprezentace jedince a rozboru výsledků použijte [tento template](https://github.com/kackamac/Prirodou-inspirovane-algoritmy/blob/master/04_spojita_reprezentace/DU1_evolucni_algoritmy.pdf)."
   ]
  },
  {
   "attachments": {},
   "cell_type": "markdown",
   "metadata": {},
   "source": [
    "##### Importy"
   ]
  },
  {
   "cell_type": "code",
   "execution_count": 1,
   "metadata": {},
   "outputs": [],
   "source": [
    "import array\n",
    "import random\n",
    "import numpy as np\n",
    "import math\n",
    "\n",
    "from deap import algorithms\n",
    "from deap import base\n",
    "from deap import creator\n",
    "from deap import tools\n",
    "\n",
    "import my_algorithms"
   ]
  },
  {
   "attachments": {},
   "cell_type": "markdown",
   "metadata": {},
   "source": [
    "Inicializácia random itemov a veľkosť batohu"
   ]
  },
  {
   "cell_type": "code",
   "execution_count": 2,
   "metadata": {},
   "outputs": [],
   "source": [
    "# random.seed(64)\n",
    "random.seed()\n",
    "items_count = 20\n",
    "\n",
    "weight_bounds = (10,200)\n",
    "price_bounds = (10,200)\n",
    "\n",
    "weights = random.sample(range(weight_bounds[0],weight_bounds[1]), items_count)\n",
    "prices = random.sample(range(price_bounds[0],price_bounds[1]), items_count)\n",
    "\n",
    "max_weight = 1000"
   ]
  },
  {
   "attachments": {},
   "cell_type": "markdown",
   "metadata": {},
   "source": [
    "Načítanie batohu zo súboru"
   ]
  },
  {
   "cell_type": "code",
   "execution_count": 3,
   "metadata": {},
   "outputs": [],
   "source": [
    "#import weights and prices from txt file\n",
    "\n",
    "def load_input_data(file_path):\n",
    "\n",
    "    weights = []\n",
    "    prices = []\n",
    "\n",
    "    with open(file_path) as file:\n",
    "        line_split = file.readline().split(\" \")\n",
    "        items_count = int(line_split[0])\n",
    "        max_weight = int(line_split[1])\n",
    "        for i in range(items_count):\n",
    "            line_split = file.readline().split(\" \")\n",
    "            prices.append(int(line_split[0]))\n",
    "            weights.append(int(line_split[1]))\n",
    "\n",
    "    return weights, prices, max_weight"
   ]
  },
  {
   "attachments": {},
   "cell_type": "markdown",
   "metadata": {},
   "source": [
    "### Sedond try - permutation individual"
   ]
  },
  {
   "attachments": {},
   "cell_type": "markdown",
   "metadata": {},
   "source": [
    "max fitness - berieme itemy v poradí permutácie, kým nenaplníme batoh. Ostatné neberieme"
   ]
  },
  {
   "cell_type": "code",
   "execution_count": 4,
   "metadata": {},
   "outputs": [],
   "source": [
    "def fitness_batoh_perm(individual):\n",
    "    total_price = 0\n",
    "    total_weight = 0\n",
    "    for i in individual:\n",
    "        total_weight += weights[i]\n",
    "        if total_weight > max_weight:\n",
    "            return total_price,\n",
    "        total_price += prices[i]\n",
    "    return total_price,"
   ]
  },
  {
   "cell_type": "code",
   "execution_count": 5,
   "metadata": {},
   "outputs": [],
   "source": [
    "def fitness_batoh_perm_2(individual):\n",
    "    total_price = 0\n",
    "    total_weight = 0\n",
    "    for i in individual:\n",
    "        total_weight += weights[i]\n",
    "        if total_weight <= max_weight:\n",
    "            total_price += prices[i]\n",
    "        else:\n",
    "            total_weight -= weights[i]\n",
    "    return total_price,"
   ]
  },
  {
   "cell_type": "code",
   "execution_count": 6,
   "metadata": {},
   "outputs": [],
   "source": [
    "def mut_transposition(individual, indv_size, transposition_count):\n",
    "    count = random.randint(1, transposition_count)\n",
    "\n",
    "    for i in range(count):\n",
    "        pos_1 = random.randint(0, indv_size - 1)\n",
    "        pos_2 = random.randint(0, indv_size - 1)\n",
    "\n",
    "        individual[pos_1], individual[pos_2] = individual[pos_2], individual[pos_1]\n",
    "\n",
    "    return individual,"
   ]
  },
  {
   "cell_type": "code",
   "execution_count": 17,
   "metadata": {},
   "outputs": [],
   "source": [
    "weights, prices, max_weight = load_input_data(file_path = \"./domaci_ukol_data/input_data_1000.txt\")\n",
    "indv_size = len(weights)\n",
    "\n",
    "creator.create(\"FitnessMax\", base.Fitness, weights=(1.0,))\n",
    "creator.create(\"Individual\", list, fitness=creator.FitnessMax)\n",
    "\n",
    "toolbox = base.Toolbox()\n",
    "\n",
    "toolbox.register(\"indices\", random.sample, range(indv_size), indv_size)\n",
    "toolbox.register(\"individual\", tools.initIterate, creator.Individual, toolbox.indices)\n",
    "\n",
    "toolbox.register(\"population\", tools.initRepeat, list, toolbox.individual)\n",
    "\n",
    "toolbox.register(\"evaluate\", fitness_batoh_perm)\n",
    "\n",
    "toolbox.register(\"mate\", tools.cxPartialyMatched)\n",
    "# toolbox.register(\"mate\", tools.cxUniformPartialyMatched, indpb = 0.1)\n",
    "toolbox.register(\"mutate\", mut_transposition, indv_size=indv_size, transposition_count = 20)\n",
    "toolbox.register(\"select\", tools.selTournament, tournsize = 3)"
   ]
  },
  {
   "cell_type": "code",
   "execution_count": 24,
   "metadata": {},
   "outputs": [
    {
     "ename": "KeyboardInterrupt",
     "evalue": "",
     "output_type": "error",
     "traceback": [
      "\u001b[1;31m---------------------------------------------------------------------------\u001b[0m",
      "\u001b[1;31mKeyboardInterrupt\u001b[0m                         Traceback (most recent call last)",
      "Cell \u001b[1;32mIn[24], line 5\u001b[0m\n\u001b[0;32m      1\u001b[0m POP_SIZE \u001b[39m=\u001b[39m \u001b[39m2_000\u001b[39m\n\u001b[0;32m      2\u001b[0m GEN_COUNT \u001b[39m=\u001b[39m \u001b[39m10_000\u001b[39m\n\u001b[1;32m----> 5\u001b[0m pop \u001b[39m=\u001b[39m toolbox\u001b[39m.\u001b[39;49mpopulation(n\u001b[39m=\u001b[39;49mPOP_SIZE)\n\u001b[0;32m      6\u001b[0m hof \u001b[39m=\u001b[39m tools\u001b[39m.\u001b[39mHallOfFame(\u001b[39m1\u001b[39m)\n\u001b[0;32m      7\u001b[0m stats \u001b[39m=\u001b[39m tools\u001b[39m.\u001b[39mStatistics(\u001b[39mlambda\u001b[39;00m ind: ind\u001b[39m.\u001b[39mfitness\u001b[39m.\u001b[39mvalues)\n",
      "File \u001b[1;32mc:\\Users\\llama\\AppData\\Local\\Programs\\Python\\Python39\\lib\\site-packages\\deap\\tools\\init.py:23\u001b[0m, in \u001b[0;36minitRepeat\u001b[1;34m(container, func, n)\u001b[0m\n\u001b[0;32m      1\u001b[0m \u001b[39mdef\u001b[39;00m \u001b[39minitRepeat\u001b[39m(container, func, n):\n\u001b[0;32m      2\u001b[0m \u001b[39m    \u001b[39m\u001b[39m\"\"\"Call the function *func* *n* times and return the results in a \u001b[39;00m\n\u001b[0;32m      3\u001b[0m \u001b[39m    container type `container`\u001b[39;00m\n\u001b[0;32m      4\u001b[0m \n\u001b[1;32m   (...)\u001b[0m\n\u001b[0;32m     21\u001b[0m \u001b[39m    See the :ref:`list-of-floats` and :ref:`population` tutorials for more examples.\u001b[39;00m\n\u001b[0;32m     22\u001b[0m \u001b[39m    \"\"\"\u001b[39;00m\n\u001b[1;32m---> 23\u001b[0m     \u001b[39mreturn\u001b[39;00m container(func() \u001b[39mfor\u001b[39;49;00m _ \u001b[39min\u001b[39;49;00m \u001b[39mrange\u001b[39;49m(n))\n",
      "File \u001b[1;32mc:\\Users\\llama\\AppData\\Local\\Programs\\Python\\Python39\\lib\\site-packages\\deap\\tools\\init.py:23\u001b[0m, in \u001b[0;36m<genexpr>\u001b[1;34m(.0)\u001b[0m\n\u001b[0;32m      1\u001b[0m \u001b[39mdef\u001b[39;00m \u001b[39minitRepeat\u001b[39m(container, func, n):\n\u001b[0;32m      2\u001b[0m \u001b[39m    \u001b[39m\u001b[39m\"\"\"Call the function *func* *n* times and return the results in a \u001b[39;00m\n\u001b[0;32m      3\u001b[0m \u001b[39m    container type `container`\u001b[39;00m\n\u001b[0;32m      4\u001b[0m \n\u001b[1;32m   (...)\u001b[0m\n\u001b[0;32m     21\u001b[0m \u001b[39m    See the :ref:`list-of-floats` and :ref:`population` tutorials for more examples.\u001b[39;00m\n\u001b[0;32m     22\u001b[0m \u001b[39m    \"\"\"\u001b[39;00m\n\u001b[1;32m---> 23\u001b[0m     \u001b[39mreturn\u001b[39;00m container(func() \u001b[39mfor\u001b[39;00m _ \u001b[39min\u001b[39;00m \u001b[39mrange\u001b[39m(n))\n",
      "File \u001b[1;32mc:\\Users\\llama\\AppData\\Local\\Programs\\Python\\Python39\\lib\\site-packages\\deap\\tools\\init.py:50\u001b[0m, in \u001b[0;36minitIterate\u001b[1;34m(container, generator)\u001b[0m\n\u001b[0;32m     25\u001b[0m \u001b[39mdef\u001b[39;00m \u001b[39minitIterate\u001b[39m(container, generator):\n\u001b[0;32m     26\u001b[0m \u001b[39m    \u001b[39m\u001b[39m\"\"\"Call the function *container* with an iterable as\u001b[39;00m\n\u001b[0;32m     27\u001b[0m \u001b[39m    its only argument. The iterable must be returned by\u001b[39;00m\n\u001b[0;32m     28\u001b[0m \u001b[39m    the method or the object *generator*.\u001b[39;00m\n\u001b[1;32m   (...)\u001b[0m\n\u001b[0;32m     48\u001b[0m \u001b[39m    more examples.\u001b[39;00m\n\u001b[0;32m     49\u001b[0m \u001b[39m    \"\"\"\u001b[39;00m\n\u001b[1;32m---> 50\u001b[0m     \u001b[39mreturn\u001b[39;00m container(generator())\n",
      "File \u001b[1;32mc:\\Users\\llama\\AppData\\Local\\Programs\\Python\\Python39\\lib\\random.py:459\u001b[0m, in \u001b[0;36mRandom.sample\u001b[1;34m(self, population, k, counts)\u001b[0m\n\u001b[0;32m    457\u001b[0m pool \u001b[39m=\u001b[39m \u001b[39mlist\u001b[39m(population)\n\u001b[0;32m    458\u001b[0m \u001b[39mfor\u001b[39;00m i \u001b[39min\u001b[39;00m \u001b[39mrange\u001b[39m(k):\n\u001b[1;32m--> 459\u001b[0m     j \u001b[39m=\u001b[39m randbelow(n \u001b[39m-\u001b[39;49m i)\n\u001b[0;32m    460\u001b[0m     result[i] \u001b[39m=\u001b[39m pool[j]\n\u001b[0;32m    461\u001b[0m     pool[j] \u001b[39m=\u001b[39m pool[n \u001b[39m-\u001b[39m i \u001b[39m-\u001b[39m \u001b[39m1\u001b[39m]  \u001b[39m# move non-selected item into vacancy\u001b[39;00m\n",
      "File \u001b[1;32mc:\\Users\\llama\\AppData\\Local\\Programs\\Python\\Python39\\lib\\random.py:237\u001b[0m, in \u001b[0;36mRandom._randbelow_with_getrandbits\u001b[1;34m(self, n)\u001b[0m\n\u001b[0;32m    234\u001b[0m             \u001b[39mcls\u001b[39m\u001b[39m.\u001b[39m_randbelow \u001b[39m=\u001b[39m \u001b[39mcls\u001b[39m\u001b[39m.\u001b[39m_randbelow_without_getrandbits\n\u001b[0;32m    235\u001b[0m             \u001b[39mbreak\u001b[39;00m\n\u001b[1;32m--> 237\u001b[0m \u001b[39mdef\u001b[39;00m \u001b[39m_randbelow_with_getrandbits\u001b[39m(\u001b[39mself\u001b[39m, n):\n\u001b[0;32m    238\u001b[0m     \u001b[39m\"\u001b[39m\u001b[39mReturn a random int in the range [0,n).  Returns 0 if n==0.\u001b[39m\u001b[39m\"\u001b[39m\n\u001b[0;32m    240\u001b[0m     \u001b[39mif\u001b[39;00m \u001b[39mnot\u001b[39;00m n:\n",
      "\u001b[1;31mKeyboardInterrupt\u001b[0m: "
     ]
    }
   ],
   "source": [
    "POP_SIZE = 2_000\n",
    "GEN_COUNT = 10_000\n",
    "\n",
    "\n",
    "pop = toolbox.population(n=POP_SIZE)\n",
    "hof = tools.HallOfFame(1)\n",
    "stats = tools.Statistics(lambda ind: ind.fitness.values)\n",
    "stats.register(\"avg\", np.mean)\n",
    "stats.register(\"std\", np.std)\n",
    "stats.register(\"min\", np.min)\n",
    "stats.register(\"max\", np.max)\n",
    "\n",
    "pop, log = algorithms.eaSimple(pop, toolbox, cxpb=0.7, mutpb=0.4, ngen=GEN_COUNT,\n",
    "                               stats=stats, halloffame=hof, verbose=True)\n",
    "\n",
    "print(hof)\n",
    "print(fitness_batoh_perm(hof[0]))"
   ]
  },
  {
   "cell_type": "code",
   "execution_count": 25,
   "metadata": {},
   "outputs": [
    {
     "name": "stdout",
     "output_type": "stream",
     "text": [
      "[[48, 469, 10, 215, 824, 281, 914, 494, 770, 830, 379, 347, 612, 362, 886, 37, 822, 60, 32, 493, 121, 216, 703, 476, 146, 708, 373, 13, 855, 269, 845, 989, 23, 945, 732, 610, 986, 585, 836, 30, 937, 821, 987, 25, 887, 967, 743, 134, 419, 6, 421, 480, 603, 249, 657, 446, 53, 599, 775, 786, 38, 549, 849, 751, 426, 573, 382, 273, 737, 992, 736, 147, 12, 956, 679, 910, 149, 996, 805, 49, 664, 804, 304, 851, 164, 988, 343, 271, 713, 212, 788, 47, 677, 58, 2, 85, 940, 35, 100, 882, 629, 759, 889, 975, 423, 95, 591, 955, 870, 847, 88, 208, 263, 718, 939, 981, 190, 600, 158, 412, 520, 209, 710, 315, 994, 324, 439, 240, 17, 507, 11, 287, 682, 155, 411, 537, 504, 667, 202, 424, 514, 891, 348, 964, 506, 941, 376, 242, 997, 214, 890, 99, 532, 459, 139, 290, 233, 420, 656, 931, 298, 251, 236, 557, 31, 592, 872, 465, 888, 744, 265, 605, 282, 620, 639, 705, 111, 397, 998, 114, 487, 670, 252, 724, 961, 995, 924, 948, 721, 530, 936, 922, 685, 250, 874, 699, 568, 142, 428, 462, 756, 556, 184, 369, 186, 906, 640, 827, 538, 394, 621, 741, 972, 473, 291, 176, 436, 460, 637, 978, 67, 684, 539, 947, 750, 767, 730, 698, 792, 531, 630, 687, 800, 968, 105, 308, 999, 785, 643, 632, 861, 21, 51, 749, 884, 772, 738, 312, 897, 720, 525, 422, 248, 712, 387, 115, 331, 731, 344, 98, 541, 499, 916, 310, 254, 363, 579, 384, 444, 683, 491, 36, 256, 881, 434, 974, 611, 50, 92, 554, 7, 729, 266, 136, 217, 583, 246, 893, 245, 903, 562, 497, 235, 840, 390, 977, 976, 195, 584, 27, 570, 675, 502, 523, 938, 449, 873, 742, 838, 368, 563, 437, 635, 5, 489, 463, 309, 135, 898, 478, 793, 789, 706, 498, 509, 232, 109, 197, 913, 575, 896, 813, 926, 15, 314, 865, 329, 628, 714, 33, 333, 857, 761, 795, 253, 340, 826, 864, 286, 694, 501, 418, 716, 264, 869, 470, 229, 113, 90, 909, 801, 244, 320, 285, 755, 616, 833, 617, 185, 508, 852, 723, 153, 779, 341, 927, 3, 580, 430, 524, 206, 697, 130, 885, 985, 636, 660, 814, 812, 241, 552, 944, 123, 76, 385, 268, 288, 124, 653, 334, 984, 950, 327, 448, 151, 758, 602, 335, 642, 796, 618, 488, 117, 46, 917, 651, 799, 820, 198, 920, 332, 803, 895, 782, 597, 867, 454, 119, 669, 407, 367, 946, 183, 307, 854, 915, 447, 979, 709, 328, 140, 297, 904, 294, 322, 935, 42, 370, 983, 356, 278, 522, 107, 766, 167, 871, 152, 848, 690, 77, 299, 438, 193, 350, 259, 581, 127, 417, 73, 771, 29, 207, 991, 513, 798, 479, 68, 540, 879, 112, 355, 700, 178, 862, 971, 276, 535, 351, 234, 403, 959, 858, 902, 589, 560, 646, 908, 39, 846, 131, 69, 536, 464, 933, 901, 156, 225, 765, 728, 663, 317, 641, 760, 551, 192, 773, 534, 546, 41, 825, 928, 104, 72, 224, 429, 574, 378, 408, 894, 277, 831, 93, 220, 255, 526, 84, 301, 624, 313, 402, 211, 661, 413, 125, 54, 578, 815, 604, 548, 238, 819, 110, 91, 189, 450, 745, 527, 654, 474, 96, 144, 154, 512, 257, 338, 339, 678, 396, 26, 529, 170, 495, 598, 381, 521, 213, 78, 65, 388, 747, 952, 807, 638, 399, 129, 839, 892, 353, 811, 126, 188, 80, 59, 566, 569, 693, 832, 16, 942, 911, 279, 24, 519, 148, 174, 594, 82, 311, 128, 71, 619, 780, 306, 900, 398, 103, 817, 665, 932, 748, 150, 457, 567, 727, 415, 94, 86, 168, 671, 841, 365, 218, 132, 345, 292, 201, 432, 323, 707, 361, 56, 516, 951, 607, 969, 973, 61, 644, 433, 456, 231, 22, 442, 389, 543, 816, 930, 577, 615, 561, 81, 753, 542, 518, 118, 106, 194, 227, 180, 425, 200, 181, 483, 221, 243, 853, 587, 659, 374, 472, 929, 157, 346, 704, 689, 336, 75, 809, 676, 829, 993, 9, 692, 835, 401, 431, 866, 120, 406, 74, 783, 647, 547, 87, 905, 274, 163, 173, 64, 719, 559, 83, 305, 949, 66, 482, 101, 662, 505, 808, 383, 550, 296, 754, 108, 222, 666, 626, 205, 576, 740, 293, 565, 468, 545, 650, 722, 844, 787, 899, 116, 70, 680, 860, 649, 515, 781, 300, 958, 342, 445, 582, 272, 325, 725, 358, 544, 859, 371, 372, 230, 776, 962, 586, 471, 510, 410, 500, 778, 686, 763, 133, 166, 455, 609, 169, 55, 321, 228, 260, 175, 613, 62, 453, 400, 953, 652, 681, 601, 138, 715, 145, 688, 774, 52, 275, 818, 160, 485, 63, 631, 876, 907, 137, 19, 326, 467, 380, 280, 171, 943, 0, 769, 481, 701, 34, 608, 477, 980, 177, 18, 161, 934, 237, 655, 802, 458, 733, 970, 834, 466, 856, 528, 20, 622, 843, 764, 966, 395, 28, 44, 672, 45, 492, 1, 850, 595, 571, 791, 555, 337, 912, 283, 777, 172, 674, 199, 239, 393, 43, 596, 440, 352, 658, 965, 366, 762, 593, 226, 330, 696, 702, 883, 837, 960, 877, 648, 302, 746, 982, 490, 435, 797, 511, 633, 810, 405, 414, 191, 162, 392, 204, 878, 159, 360, 179, 357, 219, 735, 223, 828, 289, 316, 247, 990, 303, 416, 427, 503, 823, 790, 349, 752, 364, 441, 79, 318, 734, 634, 461, 606, 868, 386, 203, 165, 359, 717, 122, 533, 187, 258, 875, 196, 614, 97, 262, 141, 921, 452, 842, 143, 726, 919, 923, 354, 443, 588, 182, 475, 963, 391, 627, 625, 806, 691, 14, 645, 451, 270, 739, 794, 768, 711, 558, 4, 572, 295, 880, 863, 695, 496, 404, 319, 377, 102, 668, 261, 267, 486, 757, 517, 673, 957, 564, 590, 375, 284, 89, 925, 784, 8, 918, 553, 210, 57, 409, 40, 623, 954, 484]]\n",
      "(53500,)\n"
     ]
    }
   ],
   "source": [
    "print(hof)\n",
    "print(fitness_batoh_perm(hof[0]))"
   ]
  },
  {
   "cell_type": "markdown",
   "metadata": {},
   "source": [
    "#### first try - binárny jedinci"
   ]
  },
  {
   "cell_type": "markdown",
   "metadata": {},
   "source": [
    "max fitness (cena ju zvyšuje a váha prekročená cez max nosnosť batohu prináša postihy)"
   ]
  },
  {
   "cell_type": "code",
   "execution_count": null,
   "metadata": {},
   "outputs": [],
   "source": [
    "def fitness_batoh_bin(individual):\n",
    "    total_price = np.sum(np.array(individual) @ np.array(prices))\n",
    "    total_weight = np.sum(np.array(individual) @ np.array(weights))\n",
    "\n",
    "    if total_weight <= max_weight:\n",
    "        return total_price,\n",
    "    else:\n",
    "        return 1,"
   ]
  },
  {
   "cell_type": "markdown",
   "metadata": {},
   "source": [
    "Vytvorenie prostredia (knižnica Deap)"
   ]
  },
  {
   "cell_type": "code",
   "execution_count": null,
   "metadata": {},
   "outputs": [],
   "source": [
    "weights, prices = load_input_data(file_path = \"./domaci_ukol_data/input_data_100.txt\")\n",
    "indv_size = len(weights)\n",
    "\n",
    "creator.create(\"FitnessMax\", base.Fitness, weights=(1.0,))\n",
    "creator.create(\"Individual\", array.array, typecode='b', fitness=creator.FitnessMax)\n",
    "\n",
    "toolbox = base.Toolbox()\n",
    "\n",
    "toolbox.register(\"attr_bool\", random.randint, 0, 1)\n",
    "toolbox.register(\"individual\", tools.initRepeat, creator.Individual, toolbox.attr_bool, indv_size)\n",
    "toolbox.register(\"population\", tools.initRepeat, list, toolbox.individual)\n",
    "toolbox.register(\"evaluate\", fitness_batoh_bin)\n",
    "toolbox.register(\"mate\", tools.cxTwoPoint)\n",
    "toolbox.register(\"mutate\", tools.mutFlipBit, indpb=0.2)\n",
    "toolbox.register(\"select\", tools.selRoulette)"
   ]
  },
  {
   "cell_type": "markdown",
   "metadata": {},
   "source": [
    "Final part"
   ]
  },
  {
   "cell_type": "code",
   "execution_count": null,
   "metadata": {},
   "outputs": [],
   "source": [
    "pop = toolbox.population(n=500)\n",
    "hof = tools.HallOfFame(1)\n",
    "stats = tools.Statistics(lambda ind: ind.fitness.values)\n",
    "stats.register(\"avg\", np.mean)\n",
    "stats.register(\"std\", np.std)\n",
    "stats.register(\"min\", np.min)\n",
    "stats.register(\"max\", np.max)\n",
    "\n",
    "pop, log = algorithms.eaSimple(pop, toolbox, cxpb=0.5, mutpb=0.2, ngen=200, \n",
    "                               stats=stats, halloffame=hof, verbose=True)"
   ]
  }
 ],
 "metadata": {
  "kernelspec": {
   "display_name": "Python 3",
   "language": "python",
   "name": "python3"
  },
  "language_info": {
   "codemirror_mode": {
    "name": "ipython",
    "version": 3
   },
   "file_extension": ".py",
   "mimetype": "text/x-python",
   "name": "python",
   "nbconvert_exporter": "python",
   "pygments_lexer": "ipython3",
   "version": "3.9.13"
  },
  "orig_nbformat": 4
 },
 "nbformat": 4,
 "nbformat_minor": 2
}
