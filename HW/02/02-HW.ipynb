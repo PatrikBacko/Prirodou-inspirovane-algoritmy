{
 "cells": [
  {
   "attachments": {},
   "cell_type": "markdown",
   "metadata": {},
   "source": [
    "## Image classification\n",
    "\n",
    "Za domácí úkol budete mít vytvořit si vlastní libovolný dataset na image classfication task, abyste si vyzkoušeli, že vyrábět data není úplně snadné. Dataset by měl mít aspoň 5 různých tříd ke klasifikaci a ke každé nějaké rozumné desítky obrázků.\n",
    "\n",
    "Až budete mít data, tak si na nich zkuste image classification task. Jak už jsem zmínila výše, trénovat celou konvoluční síť od začátku by bylo početně náročné, proto budete mít za úkol si vybrat 3 z už predtrénovaných modelů například [odsud](https://www.pyimagesearch.com/2017/03/20/imagenet-vggnet-resnet-inception-xception-keras/) a přetrénovat je tak, aby uměly klasifikovat vámi vytvořená data.\n",
    "\n",
    "Můžete si na vašich datech i zkusit natrénovat podobnou (klidně i stejnou) jednoduchou konvoluční síť, kterou jsme používali před na MNISTu výše a schválně se podívat, jak moc bude špatná oproti těm už předtrénovaným.\n",
    "\n",
    "Své řešení mi pošlete emailem do stanoveného deadline. Pro sepsání popisu vašeho datasetu, zvolených modelů a rozboru výsledků použijte [tento template](https://github.com/kackamac/Prirodou-inspirovane-algoritmy/blob/master/08_konvoluce/DU2_konvolucni_site.pdf). Řešení by mělo obsahovat:\n",
    "1. slovní popis vašich dat (jaké máte labely, kolik každý obsahuje obrázků, velikost obrázků, zdůvodnění volby datasetu)\n",
    "2. váš kód\n",
    "3. slovní popis výsledků a porovnání modelů (jaké jste použili, jak byl který úspěšný (accuraccy všech modelů na testovací množině, sepsaná třeba v nějaké pěkné tabulce) a který byl nejlepší)\n",
    "4. vámi vytvořený předzpracovaný dataset (obrázky by měly být malé, takže by neměl být problém s posláním)\n",
    "\n",
    "Pár tipů\n",
    "- bylo by dobré mít u všech tříd stejný počet obrázků\n",
    "- obrázky bude potřeba převést do nějakého jednotného rozumně malého rozměru (například 128 x 128 pixelů)\n",
    "- když budete používat předtrénované sítě, tak ty vaše obrázky by měly být stejně velké jako ty, na kterých byla trénovaná ta  síť původně\n",
    "- zároveň bude potřeba je rozdělit na dvě disjunktní množiny -- trénovací a testovací (trénovací na přetrénovaní modelů a testovací na jejich vyhodnocení)\n",
    "- model se dá přetrénovat například tak, že si nahradíte poslední nebo několik posledních vrstev vlastními, které budete přetrénovávat podle vašich dat\n",
    "- pokud se vám model nedaří přetrénovat, aby dosahoval nějakých rozumných výsledků, zkuste použít nějakou augmentaci dat a trénovat na větších datech\n"
   ]
  },
  {
   "attachments": {},
   "cell_type": "markdown",
   "metadata": {},
   "source": [
    "### Solution\n"
   ]
  },
  {
   "cell_type": "code",
   "execution_count": null,
   "metadata": {},
   "outputs": [],
   "source": [
    "import random\n",
    "import tensorflow as tf\n",
    "import matplotlib.pyplot as plt\n",
    "import numpy as np\n",
    "import tensorflow.keras as keras\n",
    "%matplotlib inline\n",
    "from tensorflow.keras.layers import Flatten, Dense, Activation, Resizing\n",
    "from tensorflow.keras.activations import linear, relu\n",
    "from tensorflow.nn import softmax"
   ]
  },
  {
   "cell_type": "code",
   "execution_count": null,
   "metadata": {},
   "outputs": [],
   "source": [
    "import keras.applications.resnet as resnet\n",
    "import keras.applications.mobilenet as mobilenet\n",
    "import keras.applications.xception as xception"
   ]
  },
  {
   "cell_type": "code",
   "execution_count": null,
   "metadata": {},
   "outputs": [],
   "source": [
    "def load_dataset(path, shape=(224,224), test_split=0.2):\n",
    "    return tf.keras.utils.image_dataset_from_directory(\n",
    "        path,\n",
    "        seed=42,\n",
    "        batch_size=None,\n",
    "        image_size=shape,\n",
    "        validation_split=test_split,\n",
    "        subset=\"both\",\n",
    "    )"
   ]
  },
  {
   "cell_type": "code",
   "execution_count": null,
   "metadata": {},
   "outputs": [],
   "source": [
    "def preprocess_image(image, network):\n",
    "    if network == \"ResNet50\":\n",
    "        return resnet.preprocess_input(image)\n",
    "    elif network == \"MobileNet\":\n",
    "        return mobilenet.preprocess_input(image)\n",
    "    elif network == \"Xception\":\n",
    "        return xception.preprocess_input(image)\n",
    "    else:\n",
    "        raise ValueError(\"Unknown network\")"
   ]
  },
  {
   "cell_type": "code",
   "execution_count": null,
   "metadata": {},
   "outputs": [],
   "source": [
    "def preprocess_input(dataset, network):\n",
    "    data = []\n",
    "    target = []\n",
    "\n",
    "    for image, label in dataset:\n",
    "        data.append(preprocess_image(image, network))\n",
    "        target.append(label)\n",
    "        \n",
    "    return np.array(data), np.array(target)"
   ]
  },
  {
   "cell_type": "code",
   "execution_count": null,
   "metadata": {},
   "outputs": [],
   "source": [
    "def create_model(base_model, classes):\n",
    "    base_model.trainable = False\n",
    "    \n",
    "    model = keras.models.Sequential([])\n",
    "    model.add(base_model)\n",
    "    model.add(Flatten())\n",
    "    model.add(Dense(units=classes, activation=linear, name='logits'))\n",
    "    model.add(Activation(activation=softmax))\n",
    "\n",
    "    model.compile(loss='sparse_categorical_crossentropy', optimizer='adam', metrics=['accuracy'])\n",
    "    return model"
   ]
  },
  {
   "cell_type": "code",
   "execution_count": null,
   "metadata": {},
   "outputs": [],
   "source": [
    "def retrian_model(model, train_data, train_target , epochs=3, batch_size = 20):\n",
    "    history = model.fit(train_data, train_target, epochs=epochs, validation_split=0.2, batch_size=batch_size).history\n",
    "    return model, history"
   ]
  },
  {
   "cell_type": "code",
   "execution_count": null,
   "metadata": {},
   "outputs": [],
   "source": [
    "def evaluate_data(model, data, target):\n",
    "    loss, accuracy = model.evaluate(data, target)\n",
    "    return accuracy"
   ]
  },
  {
   "attachments": {},
   "cell_type": "markdown",
   "metadata": {},
   "source": [
    "### Training Models"
   ]
  },
  {
   "cell_type": "code",
   "execution_count": 30,
   "metadata": {},
   "outputs": [
    {
     "name": "stdout",
     "output_type": "stream",
     "text": [
      "***** Retraining ResNet50 model ***** \n",
      "\n",
      "Found 191 files belonging to 5 classes.\n",
      "Using 153 files for training.\n",
      "Using 38 files for validation.\n",
      "Epoch 1/3\n",
      "7/7 [==============================] - 75s 8s/step - loss: 1.1372 - accuracy: 0.8115 - val_loss: 0.2789 - val_accuracy: 0.9355\n",
      "Epoch 2/3\n",
      "7/7 [==============================] - 40s 6s/step - loss: 2.1055e-05 - accuracy: 1.0000 - val_loss: 0.4578 - val_accuracy: 0.9355\n",
      "Epoch 3/3\n",
      "7/7 [==============================] - 31s 5s/step - loss: 6.9862e-07 - accuracy: 1.0000 - val_loss: 0.6959 - val_accuracy: 0.9032\n",
      "\n",
      " *** evaluateing train data ***\n",
      " \n",
      "5/5 [==============================] - 25s 4s/step - loss: 0.1410 - accuracy: 0.9804\n",
      " -  Train data accuracy: 98.04% ***\n",
      "\n",
      " *** evaluateing test data ***\n",
      " \n",
      "2/2 [==============================] - 6s 905ms/step - loss: 0.3007 - accuracy: 0.9737\n",
      "- Test data accuracy: 97.37% ***\n",
      "\n",
      "***** Retraining MobileNet model ***** \n",
      "\n",
      "Found 191 files belonging to 5 classes.\n",
      "Using 153 files for training.\n",
      "Using 38 files for validation.\n",
      "Epoch 1/3\n",
      "7/7 [==============================] - 13s 1s/step - loss: 5.4585 - accuracy: 0.6148 - val_loss: 1.6210 - val_accuracy: 0.7097\n",
      "Epoch 2/3\n",
      "7/7 [==============================] - 6s 797ms/step - loss: 1.1837 - accuracy: 0.8852 - val_loss: 2.2588e-05 - val_accuracy: 1.0000\n",
      "Epoch 3/3\n",
      "7/7 [==============================] - 6s 876ms/step - loss: 8.7941e-08 - accuracy: 1.0000 - val_loss: 0.4419 - val_accuracy: 0.9677\n",
      "\n",
      " *** evaluateing train data ***\n",
      " \n",
      "5/5 [==============================] - 6s 1s/step - loss: 0.0895 - accuracy: 0.9935\n",
      " -  Train data accuracy: 99.35% ***\n",
      "\n",
      " *** evaluateing test data ***\n",
      " \n",
      "2/2 [==============================] - 4s 1s/step - loss: 5.8661e-05 - accuracy: 1.0000\n",
      "- Test data accuracy: 100.00% ***\n",
      "\n",
      "***** Retraining Xception model ***** \n",
      "\n",
      "Found 191 files belonging to 5 classes.\n",
      "Using 153 files for training.\n",
      "Using 38 files for validation.\n",
      "Epoch 1/3\n",
      "7/7 [==============================] - 98s 13s/step - loss: 1.0909 - accuracy: 0.8197 - val_loss: 0.7560 - val_accuracy: 0.8710\n",
      "Epoch 2/3\n",
      "7/7 [==============================] - 96s 14s/step - loss: 0.1876 - accuracy: 0.9918 - val_loss: 0.1470 - val_accuracy: 0.9677\n",
      "Epoch 3/3\n",
      "7/7 [==============================] - 11186s 1862s/step - loss: 4.5827e-07 - accuracy: 1.0000 - val_loss: 0.1282 - val_accuracy: 0.9677\n",
      "\n",
      " *** evaluateing train data ***\n",
      " \n"
     ]
    },
    {
     "ename": "",
     "evalue": "",
     "output_type": "error",
     "traceback": [
      "\u001b[1;31mCanceled future for execute_request message before replies were done"
     ]
    },
    {
     "ename": "",
     "evalue": "",
     "output_type": "error",
     "traceback": [
      "\u001b[1;31mThe Kernel crashed while executing code in the the current cell or a previous cell. Please review the code in the cell(s) to identify a possible cause of the failure. Click <a href='https://aka.ms/vscodeJupyterKernelCrash'>here</a> for more info. View Jupyter <a href='command:jupyter.viewOutput'>log</a> for further details."
     ]
    }
   ],
   "source": [
    "networks = {\n",
    "    'ResNet50': resnet.ResNet50(include_top=False, weights=\"imagenet\", input_shape=(224, 224, 3)),\n",
    "    'MobileNet': mobilenet.MobileNet(include_top=False, weights=\"imagenet\", input_shape=(224, 224, 3)),\n",
    "    'Xception': xception.Xception(include_top=False, weights=\"imagenet\", input_shape=(299, 299, 3))\n",
    "}\n",
    "histories = {}\n",
    "models = {}\n",
    "\n",
    "for network in networks.keys():\n",
    "    print(f\"***** Retraining {network} model ***** \\n\")\n",
    "\n",
    "    base_model = networks[network]\n",
    "    train_ds, test_ds = load_dataset(\"dataset\", shape=base_model.input_shape[1:3], test_split=0.2)\n",
    "    \n",
    "    train_data, train_target = preprocess_input(train_ds, network)\n",
    "    test_data, test_target = preprocess_input(test_ds, network)\n",
    "\n",
    "    classes = len(train_ds.class_names)\n",
    "    model = create_model(base_model, classes)\n",
    "    model, history = retrian_model(model, train_data, train_target, 3, 20)\n",
    "\n",
    "    models[network] = model\n",
    "    histories[network] = history\n",
    "\n",
    "    print(\"\\n *** evaluating train data *** \")\n",
    "    _, train_acc = model.evaluate(train_data, train_target)\n",
    "    print(f\"\\n -  Train data accuracy: {train_acc*100:.2f}%\")\n",
    "\n",
    "    print(\"\\n *** evaluating test data *** \")\n",
    "    _, test_acc = model.evaluate(test_data, test_target)\n",
    "    print(f\"\\n- Test data accuracy: {test_acc*100:.2f}%\" + \"\\n\")"
   ]
  },
  {
   "attachments": {},
   "cell_type": "markdown",
   "metadata": {},
   "source": [
    "##### Show plots"
   ]
  },
  {
   "cell_type": "code",
   "execution_count": null,
   "metadata": {},
   "outputs": [],
   "source": [
    "for network in networks.keys():\n",
    "    plt.plot(histories[network]['accuracy'], label=\"Train data\", color='red')\n",
    "    plt.plot(histories[network]['val_accuracy'], label=\"Valitation data\", color='blue')\n",
    "\n",
    "    plt.title(f'{network} accuracy')\n",
    "    plt.ylabel('accuracy')\n",
    "    plt.xlabel('epoch')\n",
    "    plt.legend(loc='lower right')\n",
    "    plt.show()"
   ]
  },
  {
   "cell_type": "code",
   "execution_count": null,
   "metadata": {},
   "outputs": [],
   "source": [
    "import os\n",
    "from PIL import Image\n",
    "label = \"airplane\"\n",
    "path = f\"dataset\\\\{label}\"\n",
    "\n",
    "list = os.listdir(path)\n",
    "for i, image_path in enumerate(list):\n",
    "    image = Image.open(path + \"\\\\\" + image_path)\n",
    "    image = image.resize((300, 300))\n",
    "    image.save(\"dataset\\\\resized\\\\\" + f\"{label}_\" +str(i+1) + \".jpg\")"
   ]
  }
 ],
 "metadata": {
  "kernelspec": {
   "display_name": ".venv",
   "language": "python",
   "name": "python3"
  },
  "language_info": {
   "codemirror_mode": {
    "name": "ipython",
    "version": 3
   },
   "file_extension": ".py",
   "mimetype": "text/x-python",
   "name": "python",
   "nbconvert_exporter": "python",
   "pygments_lexer": "ipython3",
   "version": "3.9.13"
  },
  "orig_nbformat": 4
 },
 "nbformat": 4,
 "nbformat_minor": 2
}
