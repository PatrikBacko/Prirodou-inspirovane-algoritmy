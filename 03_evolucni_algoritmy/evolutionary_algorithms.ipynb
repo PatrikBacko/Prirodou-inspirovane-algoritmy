{
 "cells": [
  {
   "cell_type": "markdown",
   "metadata": {},
   "source": [
    "# Evoluční algoritmy \n",
    "\n",
    "Evoluční algoritmy jsou heuristické optimalizační algoritmy, které jsou inspirovány evolucí v přírodě. Slouží například k optimalizaci reálnych funkcí, hledání řešení kombinatorických úloh, nebo třeba vývoji neuronových sítí. Obecný evoluční algoritmus vypadá takto: máme populaci jedinců, ze kterých se selekcí vyberou rodičové. Ti se zkříží a vzniknout děti, na kterých následně proběhne mutace. Na závěr se vytvoří nová populace. Existují různé druhy selekce, křížení a mutace a některé z nich si představíme v příkladu níže.\n",
    "\n",
    "## Jednoduchý genetický algoritmus\n",
    "\n",
    "Zkusíme si naprogramovat jednoduchý genetický algoritmus pro problém OneMAX. OneMAX je úloha, kdy máme jedince zapsaného jako binární řetězec 0 a 1 a chceme, aby obsahoval co nejvíce jedniček."
   ]
  },
  {
   "cell_type": "code",
   "execution_count": 1,
   "metadata": {},
   "outputs": [],
   "source": [
    "import numpy as np\n",
    "import random\n",
    "import copy\n",
    "%matplotlib inline\n",
    "import matplotlib.pyplot as plt"
   ]
  },
  {
   "cell_type": "markdown",
   "metadata": {},
   "source": [
    "Nejprve si napíšeme funkci, co vytvoří náhodnou populaci jedinců velikosti *population_size*, kde každý jedince bude mít velikost *individual_size*."
   ]
  },
  {
   "cell_type": "code",
   "execution_count": 2,
   "metadata": {},
   "outputs": [],
   "source": [
    "def random_population(population_size, individual_size):\n",
    "    population = []\n",
    "    \n",
    "    for i in range(0,population_size):\n",
    "        individual = np.random.choice([0, 1], size=(individual_size,), p=[1/2, 1/2])\n",
    "        population.append(individual)\n",
    "        \n",
    "    return population"
   ]
  },
  {
   "cell_type": "markdown",
   "metadata": {},
   "source": [
    "Pro každou úlohu řešenou evolučním algoritmem je důležité správně definovat fitness funkci, která bude říkat, jak moc jsou jedinci dobří vzhledem k populaci a kterou se bude algoritmus snažit maximalizovat. Pro OneMAX problém bude vhodná fitness funkce počet jedniček v jedinci."
   ]
  },
  {
   "cell_type": "code",
   "execution_count": 3,
   "metadata": {},
   "outputs": [],
   "source": [
    "def fitness(individual):\n",
    "    return sum(individual)"
   ]
  },
  {
   "cell_type": "markdown",
   "metadata": {},
   "source": [
    "Dále si napíšeme funkci, která bude dělat selekci jedinců. Použijeme ruletovou selekci, tedy každému jedinci přiřadíme pomyslnou výseč rulety s velikostí úměrnou jeho fitness a z ní pak náhodně vybíráme jedince, kde lepší jedinci mají větší šanci být vybráni. Naštěstí knihovna random obsahuje funkci choices, která toto umí a nemusíme si to psát sami (jupí!)."
   ]
  },
  {
   "cell_type": "code",
   "execution_count": 4,
   "metadata": {},
   "outputs": [],
   "source": [
    "def selection(population,fitness_value):\n",
    "    return copy.deepcopy(random.choices(population, weights=fitness_value, k=len(population))) "
   ]
  },
  {
   "cell_type": "markdown",
   "metadata": {},
   "source": [
    "Potom, co máme vybrané dvojice jedinců, na nich provedeme křížení. Budeme dělat takzvané jednobodové křížení, teda si náhodně zvolíme bod v jedinci a hodnoty před tímto bodem vezmeme z jednoho rodiče a hodnoty po tomto bodu z druhého."
   ]
  },
  {
   "cell_type": "code",
   "execution_count": 5,
   "metadata": {},
   "outputs": [],
   "source": [
    "def crossover(population,cross_prob=1):\n",
    "    new_population = []\n",
    "    \n",
    "    for i in range(0,len(population)//2):\n",
    "        indiv1 = copy.deepcopy(population[2*i])\n",
    "        indiv2 = copy.deepcopy(population[2*i+1])\n",
    "        \n",
    "        if print_stats:\n",
    "            print(f'Mom: {indiv1}')\n",
    "            print(f'Dad: {indiv2}')\n",
    "            \n",
    "        if random.random()<cross_prob:\n",
    "            # zvolime index krizeni nahodne\n",
    "            crossover_point = random.randint(0, len(indiv1)) \n",
    "            end2 =  copy.deepcopy(indiv2[:crossover_point])\n",
    "            indiv2[:crossover_point] = indiv1[:crossover_point]\n",
    "            indiv1[:crossover_point] = end2\n",
    "            \n",
    "            if print_stats:\n",
    "                print(f'Crossover point: {crossover_point}' )\n",
    "                print(f'Son: {indiv1}' )\n",
    "                print(f'Daughter: {indiv2}' )\n",
    "                print(f'----------')\n",
    "\n",
    "        new_population.append(indiv1)\n",
    "        new_population.append(indiv2)\n",
    "        \n",
    "    return new_population"
   ]
  },
  {
   "cell_type": "markdown",
   "metadata": {},
   "source": [
    "Povedlo se nám vytvořit nové jedince pomocí křížení jejich rodičů. Následně na každém z nich provedeme mutaci tak, že si u každého bitu náhodně hodíme kostkou a s malou pravděpodobností ho změníme. "
   ]
  },
  {
   "cell_type": "code",
   "execution_count": 6,
   "metadata": {},
   "outputs": [],
   "source": [
    "def mutation(population,indiv_mutation_prob=0.1,bit_mutation_prob=0.2):\n",
    "    new_population = []\n",
    "    \n",
    "    for i in range(0,len(population)):\n",
    "        individual = copy.deepcopy(population[i])\n",
    "        if random.random() < indiv_mutation_prob:\n",
    "            for j in range(0,len(individual)):\n",
    "                if random.random() < bit_mutation_prob:\n",
    "                    if individual[j]==1:\n",
    "                        individual[j] = 0\n",
    "                    else:\n",
    "                        individual[j] = 1\n",
    "                        \n",
    "                    if print_stats:\n",
    "                        print(f'Mutated bit {j} in the individual {i} to value {individual}')\n",
    "                        \n",
    "        new_population.append(individual)\n",
    "        \n",
    "    return new_population"
   ]
  },
  {
   "cell_type": "markdown",
   "metadata": {},
   "source": [
    "Když už tedy máme napsané všechny funkce potřebné pro genetický algoritmus na tento úkol, můžeme se zkusit podívat, jak by vypadal jeden krok evoluce. Vytvoříme si náhodnou populaci, vybereme jedince, zkřížíme je, zmutujeme nově vzniklé a hurá, máme novou populaci."
   ]
  },
  {
   "cell_type": "code",
   "execution_count": 7,
   "metadata": {},
   "outputs": [
    {
     "name": "stdout",
     "output_type": "stream",
     "text": [
      "\n",
      "Random initial population:\n",
      "[[1 1 0 1 0 0 1 1]\n",
      " [0 1 1 1 1 1 0 0]\n",
      " [1 1 1 1 1 0 0 0]\n",
      " [0 1 1 1 0 1 1 0]\n",
      " [1 1 0 0 0 0 1 0]\n",
      " [0 0 0 0 1 1 1 1]]\n",
      "\n",
      "SELECTION\n",
      "Population after selection:\n",
      "[[1 1 0 1 0 0 1 1]\n",
      " [0 0 0 0 1 1 1 1]\n",
      " [1 1 0 1 0 0 1 1]\n",
      " [1 1 0 1 0 0 1 1]\n",
      " [1 1 0 1 0 0 1 1]\n",
      " [1 1 0 1 0 0 1 1]]\n",
      "\n",
      "CROSSOVER\n",
      "Mom: [1 1 0 1 0 0 1 1]\n",
      "Dad: [0 0 0 0 1 1 1 1]\n",
      "Crossover point: 6\n",
      "Son: [0 0 0 0 1 1 1 1]\n",
      "Daughter: [1 1 0 1 0 0 1 1]\n",
      "----------\n",
      "Mom: [1 1 0 1 0 0 1 1]\n",
      "Dad: [1 1 0 1 0 0 1 1]\n",
      "Crossover point: 3\n",
      "Son: [1 1 0 1 0 0 1 1]\n",
      "Daughter: [1 1 0 1 0 0 1 1]\n",
      "----------\n",
      "Mom: [1 1 0 1 0 0 1 1]\n",
      "Dad: [1 1 0 1 0 0 1 1]\n",
      "Crossover point: 0\n",
      "Son: [1 1 0 1 0 0 1 1]\n",
      "Daughter: [1 1 0 1 0 0 1 1]\n",
      "----------\n",
      "Population after crossover:\n",
      "[[0 0 0 0 1 1 1 1]\n",
      " [1 1 0 1 0 0 1 1]\n",
      " [1 1 0 1 0 0 1 1]\n",
      " [1 1 0 1 0 0 1 1]\n",
      " [1 1 0 1 0 0 1 1]\n",
      " [1 1 0 1 0 0 1 1]]\n",
      "\n",
      "MUTATION\n",
      "Mutated bit 4 in the individual 1 to value [1 1 0 1 1 0 1 1]\n",
      "Mutated bit 6 in the individual 1 to value [1 1 0 1 1 0 0 1]\n",
      "Mutated bit 7 in the individual 1 to value [1 1 0 1 1 0 0 0]\n",
      "Mutated bit 1 in the individual 2 to value [1 0 0 1 0 0 1 1]\n",
      "Mutated bit 4 in the individual 2 to value [1 0 0 1 1 0 1 1]\n",
      "Mutated bit 5 in the individual 2 to value [1 0 0 1 1 1 1 1]\n",
      "\n",
      "Population after mutation:\n",
      "[[0 0 0 0 1 1 1 1]\n",
      " [1 1 0 1 1 0 0 0]\n",
      " [1 0 0 1 1 1 1 1]\n",
      " [1 1 0 1 0 0 1 1]\n",
      " [1 1 0 1 0 0 1 1]\n",
      " [1 1 0 1 0 0 1 1]]\n"
     ]
    }
   ],
   "source": [
    "print_stats = True\n",
    "population = random_population(6,8)\n",
    "print('\\nRandom initial population:')\n",
    "print(np.array(population))\n",
    "\n",
    "print('\\nSELECTION')\n",
    "fitness_value = list(map(fitness, population))\n",
    "selected_population = selection(population,fitness_value)\n",
    "print('Population after selection:')\n",
    "print(np.array(selected_population))\n",
    "\n",
    "print('\\nCROSSOVER')\n",
    "cross_population = crossover(selected_population)\n",
    "print('Population after crossover:')\n",
    "print(np.array(cross_population))\n",
    "\n",
    "print('\\nMUTATION')\n",
    "mutated_population = mutation(cross_population, indiv_mutation_prob=0.3,bit_mutation_prob=0.2)\n",
    "print('\\nPopulation after mutation:')\n",
    "print(np.array(mutated_population))\n",
    "print_stats = False"
   ]
  },
  {
   "cell_type": "markdown",
   "metadata": {},
   "source": [
    "Vidíme, že nám jednotlivé kroky fungují (další jupí!), takže je na závěr spojíme do jednoho parádního genetického algoritmu, kde si tedy vytvoříme počáteční náhodnou populaci a tu necháme evolvovat, tedy v několika epochách budeme vytvářet novou populaci z té staré pomocí genetických operátorů selekce, křížení a mutace."
   ]
  },
  {
   "cell_type": "code",
   "execution_count": 8,
   "metadata": {},
   "outputs": [],
   "source": [
    "def evolution(population_size, individual_size, max_generations):\n",
    "    max_fitness = []\n",
    "    population = random_population(population_size,individual_size)\n",
    "    \n",
    "    for i in range(0,max_generations):\n",
    "        fitness_value = list(map(fitness, population))\n",
    "        max_fitness.append(max(fitness_value))\n",
    "        parents = selection(population,fitness_value)\n",
    "        children = crossover(parents)\n",
    "        mutated_children = mutation(children)\n",
    "        population = mutated_children\n",
    "        \n",
    "    # spocitame fitness i pro posledni populaci\n",
    "    fitness_value = list(map(fitness, population))\n",
    "    max_fitness.append(max(fitness_value))\n",
    "    best_individual = population[np.argmax(fitness_value)]\n",
    "    \n",
    "    return best_individual, population, max_fitness"
   ]
  },
  {
   "cell_type": "markdown",
   "metadata": {},
   "source": [
    "Na závěr tedy zkusíme náš krásný genetický algoritmus na OneMAX problém pustit a uvidíme, co se bude dít."
   ]
  },
  {
   "cell_type": "code",
   "execution_count": 9,
   "metadata": {},
   "outputs": [
    {
     "name": "stdout",
     "output_type": "stream",
     "text": [
      "best fitness:  41\n",
      "best individual:  [1 0 1 0 0 1 1 0 1 1 1 1 1 1 1 1 1 0 1 1 1 0 1 1 1 1 0 1 1 0 1 1 1 1 1 1 1\n",
      " 1 1 1 1 0 1 1 1 1 1 1 1 1]\n"
     ]
    },
    {
     "data": {
      "text/plain": [
       "Text(0.5, 0, 'Generace')"
      ]
     },
     "execution_count": 9,
     "metadata": {},
     "output_type": "execute_result"
    },
    {
     "data": {
      "image/png": "[encoded data removed]",
      "text/plain": [
       "<Figure size 640x480 with 1 Axes>"
      ]
     },
     "metadata": {},
     "output_type": "display_data"
    }
   ],
   "source": [
    "best, population, max_fitness = evolution(population_size=100,individual_size=50,max_generations=100)\n",
    "\n",
    "print('best fitness: ', fitness(best))\n",
    "print('best individual: ', best)\n",
    "\n",
    "\n",
    "plt.plot(max_fitness)\n",
    "plt.ylabel('Fitness')\n",
    "plt.xlabel('Generace')"
   ]
  },
  {
   "cell_type": "markdown",
   "metadata": {},
   "source": [
    "##  Úkol na cvičení"
   ]
  },
  {
   "cell_type": "markdown",
   "metadata": {},
   "source": [
    "Vaším úkolem bude upravit výše napsaný algoritmus tak, aby uměl vyřešit problém součtu podmnožiny, který spočívá v nalezení podmnožiny dané množiny takové, že součet prvků v té nalezené podmnožine se rovná nějakému přesně zadanému číslu. V optimalizační verzi se tedy tento problém snaží minimalizovat rozdíl mezi zadanou hodnotou a součtem podmnožiny. Následně si zkuste hrát s různými druhy křížení, vyzkoušejte si například nahradit výše napsané jednobodové křížení za vícebodové nebo uniformní křížení a sledujte, jak se bude evoluce měnit."
   ]
  },
  {
   "cell_type": "code",
   "execution_count": 10,
   "metadata": {},
   "outputs": [
    {
     "name": "stdout",
     "output_type": "stream",
     "text": [
      "6366 [137, 106, 136, 104, 121, 113, 119, 143, 118, 114, 148, 123, 120, 102, 115, 113, 147, 108, 133, 148, 148, 145, 122, 149, 140, 147, 140, 118, 110, 100, 129, 106, 141, 140, 106, 113, 141, 103, 150, 138, 143, 100, 109, 142, 125, 135, 121, 145, 141, 130, 127, 119, 143, 123, 144, 108, 139, 124, 149, 142, 120, 136, 129, 131, 116, 107, 101, 112, 147, 123, 122, 148, 146, 116, 105, 142, 139, 111, 103, 147, 146, 125, 109, 133, 141, 127, 133, 126, 124, 119, 147, 107, 147, 141, 134, 137, 111, 114, 142, 105]\n"
     ]
    }
   ],
   "source": [
    "random_set = []\n",
    "for i in range(0,100):\n",
    "    random_set.append(random.randint(100,150)) \n",
    "    \n",
    "# for cyklus vyse se da napsat i v jednom prikazu\n",
    "random_set = [random.randint(100,150) for i in range(0,100)]\n",
    "    \n",
    "value = sum(random_set)//2\n",
    "print(value, random_set)"
   ]
  },
  {
   "cell_type": "markdown",
   "metadata": {},
   "source": [
    "## Knihovna Deap \n",
    "\n",
    "V minulém cvičení jsme si sami zkusili napsat jednoduchý evoluční algoritmus pro OneMax problém. Nyní se podíváme na tento problém znovu a ukážeme si knihovnu, která má námi ručně psané funkce už naimplementované a usnadní nám tedy práci s psaním evolučního algoritmu, protože si ho nemusíme psát celý sami.\n",
    "\n",
    "Deap je knihovna určená pro implementaci nejběžnějších evolučních technik jako například klasický evoluční algoritmus, genetecké programování, evoluční strategie, optimalizaci pomocí hejna a spoustu dalších metod.\n",
    "\n",
    "### OneMax problém\n",
    "\n",
    "K vyřešení OneMax problému je tedy potřeba definovat jedince, pak si vytvořit celou populaci a pak přidat operátory pro její evoluci. Začneme nejprv importy, které budeme v naší evoluci potřebovat."
   ]
  },
  {
   "cell_type": "code",
   "execution_count": 11,
   "metadata": {},
   "outputs": [],
   "source": [
    "import array\n",
    "import random\n",
    "import numpy as np\n",
    "import math\n",
    "\n",
    "from deap import algorithms\n",
    "from deap import base\n",
    "from deap import creator\n",
    "from deap import tools"
   ]
  },
  {
   "cell_type": "markdown",
   "metadata": {},
   "source": [
    "Protože skutečná struktura jedinců v genetických algoritmech závisí na cílovém úkolu, deap neobsahuje žádnou explicitní strukturu, ale poskytuje raději metodu pro vytváření kontejneru s danými atributy, ke kterými se asociuje i fitness. Této metodě se říká ```deap.creator``` a můžeme s její pomocí velmi jednoduchým způsobem vytvořit vlastní jedince vhodné pro dané úkol. \n",
    "\n",
    "Vytvoříme tedy dvě třídy: První se bude jmenovat ```FitnessMax```, bude mít base class ```Fitness```, ze které dědí její vlastnosti, a všechny váhy budou 1, protože chceme max fitness jedince. Druhá třída bude ```Individual``` a ta bude popisovat našeho jedince, který bude pole 0 a 1 a bude mít námi výše vytvořenou fitness. Námi vytvořené třídy se potom dají volat přímo z ```creator```, protože jsou jeho součástí."
   ]
  },
  {
   "cell_type": "code",
   "execution_count": 12,
   "metadata": {},
   "outputs": [],
   "source": [
    "creator.create(\"FitnessMax\", base.Fitness, weights=(1.0,))\n",
    "creator.create(\"Individual\", array.array, typecode='b', fitness=creator.FitnessMax)"
   ]
  },
  {
   "cell_type": "markdown",
   "metadata": {},
   "source": [
    "Nyní použijeme tyto třídy k vytvoření typů představujících naše jedince a pak i celou populaci jedinců. Tyto všechny objekty budou uloženy v kontejneru knihovny deap zvané ```toolbox```. Ta obsahuje dvě metody pro přidání a odebrání obsahu -- ```register()``` a ```unregister()```."
   ]
  },
  {
   "cell_type": "code",
   "execution_count": 13,
   "metadata": {},
   "outputs": [],
   "source": [
    "toolbox = base.Toolbox()"
   ]
  },
  {
   "cell_type": "markdown",
   "metadata": {},
   "source": [
    "Nejprve si vytvoříme jedince jakožto posloupnost 1 a 0 a následně vytvoříme celou populaci. Generátor ```attr_bool``` zvolí náhodně buď 0, nebo 1. Dva inicializátory ```individual``` a ```population``` vytvoří instanci jednotlivce a populace. Naši jednotlivci budou generováni pomocí funkce ```initRepeat()```, která opakovaně volá výše vytvořenou třídu jedince ```Individual``` a pomocí ```attr_bool``` vytvaří náhodné jedince velikosti 100. Následně je obdobným způsobem vygenerovaná celá populace těchto náhodných jedinců.\n"
   ]
  },
  {
   "cell_type": "code",
   "execution_count": 14,
   "metadata": {},
   "outputs": [],
   "source": [
    "toolbox.register(\"attr_bool\", random.randint, 0, 1)\n",
    "toolbox.register(\"individual\", tools.initRepeat, creator.Individual, toolbox.attr_bool, 100)\n",
    "toolbox.register(\"population\", tools.initRepeat, list, toolbox.individual)"
   ]
  },
  {
   "cell_type": "markdown",
   "metadata": {},
   "source": [
    "Dále je třeba si zadefinovat fitness funkci. Ta bude velice jednoduchá, protože je potřeba pouze zjistit počet jedniček v jedinci."
   ]
  },
  {
   "cell_type": "code",
   "execution_count": 15,
   "metadata": {},
   "outputs": [],
   "source": [
    "def evalOneMax(individual):\n",
    "    return sum(individual),"
   ]
  },
  {
   "cell_type": "markdown",
   "metadata": {},
   "source": [
    "Teď už je jen potřeba registrace genetických operátorů, abychom mohli používat evoluci. Potřebujeme evaluaci pomocí naší výše vytvořené fitness, dvoubodové křížení, flip mutaci a selekci jedinců. Zde si pro změnu zkusíme turnajovou selekci."
   ]
  },
  {
   "cell_type": "code",
   "execution_count": 16,
   "metadata": {},
   "outputs": [],
   "source": [
    "toolbox.register(\"evaluate\", evalOneMax)\n",
    "toolbox.register(\"mate\", tools.cxTwoPoint)\n",
    "toolbox.register(\"mutate\", tools.mutFlipBit, indpb=0.05)\n",
    "toolbox.register(\"select\", tools.selTournament, tournsize=3)"
   ]
  },
  {
   "cell_type": "markdown",
   "metadata": {},
   "source": [
    "Nyní máme definovanou reprezentaci a genetické operátory a zbývá už jen pustit evoluci. Vytvoříme si populaci ```n``` jedinců, zároveň si v hall of fame (```hof```) pamatujeme nejlepší jedince pro každou populaci, a nastavíme si pro zajímavost několik statistických hodnot pro každou populaci -- průměr, min, max a odchylku. Pak už jen zbývá pustit jednoduchý evoluční algoritmus pomocí ```eaSimple``` na danou populaci, s  daným toolboxem, pravděpodobnostmi operací a dalšími parametry. Parametr ```verbose``` mi jen říká, zda chci během evoluce vypisovat statistické hodnoty."
   ]
  },
  {
   "cell_type": "code",
   "execution_count": 17,
   "metadata": {},
   "outputs": [
    {
     "name": "stdout",
     "output_type": "stream",
     "text": [
      "gen\tnevals\tavg    \tstd    \tmin\tmax\n",
      "0  \t300   \t50.4933\t5.33822\t34 \t64 \n",
      "1  \t181   \t54.8333\t4.34958\t44 \t66 \n",
      "2  \t191   \t58.4567\t3.45564\t47 \t68 \n",
      "3  \t199   \t60.9533\t2.9025 \t52 \t68 \n",
      "4  \t167   \t62.96  \t2.90719\t47 \t71 \n",
      "5  \t175   \t64.99  \t2.84896\t57 \t73 \n",
      "6  \t168   \t66.9333\t2.80515\t58 \t74 \n",
      "7  \t187   \t68.9167\t2.82661\t59 \t76 \n",
      "8  \t171   \t70.8867\t2.4455 \t62 \t76 \n",
      "9  \t155   \t72.69  \t2.62435\t62 \t80 \n",
      "10 \t171   \t74.1233\t2.61052\t64 \t82 \n",
      "11 \t191   \t75.64  \t2.70007\t65 \t82 \n",
      "12 \t171   \t77.18  \t2.55752\t69 \t84 \n",
      "13 \t173   \t78.7667\t2.24475\t69 \t84 \n",
      "14 \t185   \t79.9067\t2.36459\t72 \t86 \n",
      "15 \t205   \t81.4433\t2.3805 \t72 \t88 \n",
      "16 \t163   \t82.6767\t2.22534\t74 \t88 \n",
      "17 \t175   \t83.6833\t2.37411\t76 \t88 \n",
      "18 \t181   \t84.8067\t2.30274\t74 \t90 \n",
      "19 \t179   \t85.6233\t2.51955\t74 \t91 \n",
      "20 \t178   \t86.58  \t2.16416\t78 \t91 \n",
      "21 \t173   \t87.2533\t2.33148\t78 \t91 \n",
      "22 \t155   \t88.06  \t2.15787\t79 \t92 \n",
      "23 \t187   \t88.37  \t2.20146\t80 \t92 \n",
      "24 \t184   \t89.2767\t1.97825\t82 \t94 \n",
      "25 \t198   \t89.7767\t2.3805 \t80 \t95 \n",
      "26 \t185   \t90.6233\t2.41553\t80 \t96 \n",
      "27 \t160   \t91.62  \t2.25291\t82 \t96 \n",
      "28 \t182   \t92.45  \t2.36379\t83 \t97 \n",
      "29 \t171   \t93.2933\t2.46589\t84 \t97 \n",
      "30 \t184   \t94.1433\t2.39919\t84 \t97 \n",
      "31 \t161   \t94.91  \t2.40594\t85 \t98 \n",
      "32 \t181   \t95.4633\t2.28954\t85 \t99 \n",
      "33 \t177   \t96.02  \t2.40962\t88 \t99 \n",
      "34 \t182   \t96.7733\t2.09172\t88 \t99 \n",
      "35 \t177   \t97.0433\t2.32554\t86 \t100\n",
      "36 \t161   \t97.3567\t2.50122\t88 \t100\n",
      "37 \t178   \t97.9167\t2.34302\t90 \t100\n",
      "38 \t176   \t98.4   \t2.11345\t87 \t100\n",
      "39 \t202   \t98.2467\t2.61007\t88 \t100\n",
      "40 \t180   \t98.8333\t2.11003\t90 \t100\n"
     ]
    }
   ],
   "source": [
    "# pseudonahodny generator cisel, diky kteremu jsou jednotlive behy stejne pro snazsi ladeni\n",
    "random.seed(64) \n",
    "\n",
    "pop = toolbox.population(n=300)\n",
    "hof = tools.HallOfFame(1)\n",
    "stats = tools.Statistics(lambda ind: ind.fitness.values)\n",
    "stats.register(\"avg\", np.mean)\n",
    "stats.register(\"std\", np.std)\n",
    "stats.register(\"min\", np.min)\n",
    "stats.register(\"max\", np.max)\n",
    "\n",
    "pop, log = algorithms.eaSimple(pop, toolbox, cxpb=0.5, mutpb=0.2, ngen=40, \n",
    "                               stats=stats, halloffame=hof, verbose=True)"
   ]
  },
  {
   "cell_type": "code",
   "execution_count": null,
   "metadata": {},
   "outputs": [],
   "source": []
  }
 ],
 "metadata": {
  "kernelspec": {
   "display_name": "Python 3 (ipykernel)",
   "language": "python",
   "name": "python3"
  },
  "language_info": {
   "codemirror_mode": {
    "name": "ipython",
    "version": 3
   },
   "file_extension": ".py",
   "mimetype": "text/x-python",
   "name": "python",
   "nbconvert_exporter": "python",
   "pygments_lexer": "ipython3",
   "version": "3.10.7"
  }
 },
 "nbformat": 4,
 "nbformat_minor": 2
}
